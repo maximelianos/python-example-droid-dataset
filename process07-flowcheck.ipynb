{
 "cells": [
  {
   "cell_type": "code",
   "execution_count": 1,
   "id": "66d7d403-d71a-4064-b90e-f3bf982d6800",
   "metadata": {},
   "outputs": [
    {
     "name": "stderr",
     "output_type": "stream",
     "text": [
      "/home/iter/miniconda3/envs/rerun/lib/python3.11/site-packages/torchvision/io/image.py:13: UserWarning: Failed to load image Python extension: '/home/iter/miniconda3/envs/rerun/lib/python3.11/site-packages/torchvision/image.so: undefined symbol: _ZN3c1017RegisterOperatorsD1Ev'If you don't plan on using image functionality from `torchvision.io`, you can ignore this warning. Otherwise, there might be something wrong with your environment. Did you have `libjpeg` or `libpng` installed before building `torchvision` from source?\n",
      "  warn(\n"
     ]
    }
   ],
   "source": [
    "# google: torchvision optical flow\n",
    "\n",
    "from pathlib import Path\n",
    "import numpy as np\n",
    "from skimage import io\n",
    "from skimage.transform import rescale, resize\n",
    "from scipy.ndimage import gaussian_filter\n",
    "from scipy import ndimage\n",
    "\n",
    "import torch\n",
    "import matplotlib.pyplot as plt\n",
    "import torchvision.transforms.functional as F\n",
    "import torchvision.transforms as T\n",
    "\n",
    "imginfo = lambda img: print(type(img), img.dtype, img.shape, img.min(), img.max())"
   ]
  },
  {
   "cell_type": "code",
   "execution_count": 2,
   "id": "107d4f50-d79d-4dea-9a27-d8855a7f571c",
   "metadata": {},
   "outputs": [
    {
     "name": "stderr",
     "output_type": "stream",
     "text": [
      "/home/iter/miniconda3/envs/rerun/lib/python3.11/site-packages/torchvision/models/_utils.py:208: UserWarning: The parameter 'pretrained' is deprecated since 0.13 and may be removed in the future, please use 'weights' instead.\n",
      "  warnings.warn(\n",
      "/home/iter/miniconda3/envs/rerun/lib/python3.11/site-packages/torchvision/models/_utils.py:223: UserWarning: Arguments other than a weight enum or `None` for 'weights' are deprecated since 0.13 and may be removed in the future. The current behavior is equivalent to passing `weights=Raft_Large_Weights.C_T_SKHT_V2`. You can also use `weights=Raft_Large_Weights.DEFAULT` to get the most up-to-date weights.\n",
      "  warnings.warn(msg)\n"
     ]
    }
   ],
   "source": [
    "from torchvision.models.optical_flow import raft_large\n",
    "\n",
    "device = \"cpu\"\n",
    "model = raft_large(pretrained=True, progress=False).to(device)\n",
    "model = model.eval()"
   ]
  },
  {
   "cell_type": "code",
   "execution_count": 13,
   "id": "d5543239-2dba-4eff-aeec-2af04152bf55",
   "metadata": {},
   "outputs": [],
   "source": [
    "# === load first touch coors\n",
    "import json\n",
    "with open(\"data/single_log.json\") as f:\n",
    "    episode_log = json.load(f)\n",
    "first_x, first_y, first_z = map(int, episode_log[\"first_touch\"])\n",
    "cropw = 200\n",
    "\n",
    "def cut_crop(image):\n",
    "    \"\"\"\n",
    "    :param image: [h, w, c]\n",
    "    \"\"\"\n",
    "    return image[first_y-cropw:first_y+cropw, first_x-cropw:first_x+cropw]"
   ]
  },
  {
   "cell_type": "code",
   "execution_count": 14,
   "id": "49750ca8-a46b-40d1-9cba-85e6bed902eb",
   "metadata": {},
   "outputs": [],
   "source": [
    "# === prepare batch for RAFT\n",
    "def to_batch(image):\n",
    "    batch = torch.from_numpy(image)[None, :, :, :].to(torch.float32) / 255  # [h, w, c] -> [1, h, w, c]\n",
    "    batch = batch.permute(0, 3, 1, 2)  # [1, h, w, c] -> [1, c, h, w]\n",
    "    \n",
    "    transforms = T.Compose(\n",
    "        [\n",
    "            T.ConvertImageDtype(torch.float32),\n",
    "            T.Normalize(mean=0.5, std=0.5),  # map [0, 1] into [-1, 1]\n",
    "            #T.Resize(size=(520, 960)),\n",
    "        ]\n",
    "    )\n",
    "    batch = transforms(batch)\n",
    "    return batch\n",
    "\n",
    "# === compute flow with RAFT\n",
    "from torchvision.utils import flow_to_image\n",
    "\n",
    "def compute_flow_picture(img1_batch, img2_batch):\n",
    "    with torch.no_grad():\n",
    "        list_of_flows = model(img1_batch.to(device), img2_batch.to(device))\n",
    "    print(f\"length = {len(list_of_flows)} = number of iterations of the model\")\n",
    "    predicted_flows = list_of_flows[-1].detach()\n",
    "\n",
    "    flow_imgs = flow_to_image(predicted_flows)\n",
    "    \n",
    "    # The images have been mapped into [-1, 1] but for plotting we want them in [0, 1]\n",
    "    img1_batch = [(img1 + 1) / 2 for img1 in img1_batch]\n",
    "    \n",
    "    grid = [[img1, flow_img] for (img1, flow_img) in zip(img1_batch, flow_imgs)]\n",
    "    \n",
    "    return grid[0][1]\n",
    "\n",
    "# === save image from RAFT\n",
    "\n",
    "def save_torch(path, tensor):\n",
    "    \"\"\"\n",
    "    tensor: [c, h, w] cuda float32 [0, 1]\n",
    "    \"\"\"\n",
    "    img = (tensor.to(\"cpu\").permute([1, 2, 0]).numpy() * 255).astype(np.uint8)\n",
    "    io.imsave(path, img)\n"
   ]
  },
  {
   "cell_type": "code",
   "execution_count": 15,
   "id": "97410f00-ede0-4b86-88ec-494f2e6a4ce4",
   "metadata": {},
   "outputs": [],
   "source": [
    "# === Run flow\n",
    "file_list = sorted(Path(\"data/frames\").glob(\"center*jpg\"))\n",
    "i1 = io.imread(file_list[2]).astype(np.float32) / 255 # [h, w, 3] float32 [0, 1]\n",
    "#i2 = io.imread(\"data/frames/grip_image.jpg\").astype(np.float32) / 255\n",
    "i2 = io.imread(file_list[3]).astype(np.float32) / 255\n",
    "\n",
    "i2 = io.imread(file_list[3]).astype(np.float32) / 255\n",
    "\n",
    "img1_batch = to_batch(i2) # flow from second image to first\n",
    "img2_batch = to_batch(i1)\n",
    "# flow = compute_flow_picture(img1_batch, img2_batch)\n",
    "# save_torch(\"data/raft_flow.jpg\", flow)"
   ]
  },
  {
   "cell_type": "code",
   "execution_count": 16,
   "id": "a21a68fa-4af9-47b4-9da9-6926d841b4c5",
   "metadata": {},
   "outputs": [],
   "source": [
    "# idea is to take the moving region closest to the center.\n",
    "# For that I first threshold the moving part,\n",
    "# then take histogram of distances from the center.\n",
    "def compute_flow(img1_batch, img2_batch):\n",
    "    with torch.no_grad():\n",
    "        list_of_flows = model(img1_batch.to(device), img2_batch.to(device))\n",
    "    print(f\"length = {len(list_of_flows)} = number of iterations of the model\")\n",
    "    predicted_flows = list_of_flows[-1].detach()\n",
    "\n",
    "    return predicted_flows\n",
    "\n",
    "def flow_thr(flow):\n",
    "    # magnitude; (u, v) - horizontal, vertical\n",
    "    mag = (flow[0, 0, :, :] ** 2 + flow[0, 1, :, :] ** 2) ** 0.5\n",
    "    THR = 1\n",
    "    return mag > THR\n",
    "\n",
    "def save_mask(path, tensor):\n",
    "    \"\"\"\n",
    "    tensor: [h, w] cuda float32 [0, 1]\n",
    "    \"\"\"\n",
    "    img = (tensor.to(\"cpu\").numpy() * 255).astype(np.uint8)\n",
    "    io.imsave(path, img)"
   ]
  },
  {
   "cell_type": "code",
   "execution_count": 17,
   "id": "62fb1c10-1f26-43d6-8289-67c572e50658",
   "metadata": {},
   "outputs": [
    {
     "name": "stdout",
     "output_type": "stream",
     "text": [
      "length = 12 = number of iterations of the model\n"
     ]
    }
   ],
   "source": [
    "flow = compute_flow(img1_batch, img2_batch)\n",
    "thr = flow_thr(flow)\n",
    "save_mask(\"data/mask.jpg\", thr)"
   ]
  },
  {
   "cell_type": "code",
   "execution_count": null,
   "id": "634a800e-9e26-4cd8-85ee-804c8af183c8",
   "metadata": {},
   "outputs": [],
   "source": []
  }
 ],
 "metadata": {
  "kernelspec": {
   "display_name": "Python 3 (ipykernel)",
   "language": "python",
   "name": "python3"
  },
  "language_info": {
   "codemirror_mode": {
    "name": "ipython",
    "version": 3
   },
   "file_extension": ".py",
   "mimetype": "text/x-python",
   "name": "python",
   "nbconvert_exporter": "python",
   "pygments_lexer": "ipython3",
   "version": "3.11.9"
  }
 },
 "nbformat": 4,
 "nbformat_minor": 5
}

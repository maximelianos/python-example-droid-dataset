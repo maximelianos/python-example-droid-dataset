{
 "cells": [
  {
   "cell_type": "code",
   "execution_count": 1,
   "metadata": {},
   "outputs": [
    {
     "name": "stderr",
     "output_type": "stream",
     "text": [
      "/home/iternal/miniconda3/envs/rerun/lib/python3.11/site-packages/torchvision/io/image.py:13: UserWarning: Failed to load image Python extension: '/home/iternal/miniconda3/envs/rerun/lib/python3.11/site-packages/torchvision/image.so: undefined symbol: _ZN3c1017RegisterOperatorsD1Ev'If you don't plan on using image functionality from `torchvision.io`, you can ignore this warning. Otherwise, there might be something wrong with your environment. Did you have `libjpeg` or `libpng` installed before building `torchvision` from source?\n",
      "  warn(\n"
     ]
    }
   ],
   "source": [
    "from pathlib import Path\n",
    "\n",
    "import numpy as np\n",
    "from skimage import io\n",
    "from skimage.transform import rescale, resize\n",
    "from scipy.ndimage import gaussian_filter\n",
    "from scipy import ndimage\n",
    "\n",
    "import torch\n",
    "# from transformers import Dinov2Backbone\n",
    "from torchvision.models import resnet18"
   ]
  },
  {
   "cell_type": "code",
   "execution_count": 2,
   "metadata": {},
   "outputs": [],
   "source": [
    "code_dir = Path.home() / \"work/brox/python-example-droid-dataset\""
   ]
  },
  {
   "cell_type": "code",
   "execution_count": 3,
   "metadata": {},
   "outputs": [
    {
     "name": "stderr",
     "output_type": "stream",
     "text": [
      "/home/iternal/miniconda3/envs/rerun/lib/python3.11/site-packages/torchvision/models/_utils.py:208: UserWarning: The parameter 'pretrained' is deprecated since 0.13 and may be removed in the future, please use 'weights' instead.\n",
      "  warnings.warn(\n",
      "/home/iternal/miniconda3/envs/rerun/lib/python3.11/site-packages/torchvision/models/_utils.py:223: UserWarning: Arguments other than a weight enum or `None` for 'weights' are deprecated since 0.13 and may be removed in the future. The current behavior is equivalent to passing `weights=ResNet18_Weights.IMAGENET1K_V1`. You can also use `weights=ResNet18_Weights.DEFAULT` to get the most up-to-date weights.\n",
      "  warnings.warn(msg)\n"
     ]
    }
   ],
   "source": [
    "backbone = resnet18(pretrained=True)"
   ]
  },
  {
   "cell_type": "code",
   "execution_count": 4,
   "metadata": {},
   "outputs": [],
   "source": [
    "children = list(backbone.children())\n",
    "newmodel = torch.nn.Sequential(*children[0:6])\n",
    "# newmodel"
   ]
  },
  {
   "cell_type": "code",
   "execution_count": 14,
   "metadata": {},
   "outputs": [],
   "source": [
    "imginfo = lambda img: print(type(img), img.dtype, img.shape, img.min(), img.max())\n",
    "\n",
    "# === load first touch coors\n",
    "import json\n",
    "with open(code_dir / \"data/single_log.json\") as f:\n",
    "    episode_log = json.load(f)\n",
    "first_x, first_y, first_z = map(int, episode_log[\"first_touch\"])\n",
    "cropw = 200"
   ]
  },
  {
   "cell_type": "code",
   "execution_count": 21,
   "metadata": {},
   "outputs": [],
   "source": [
    "# === first image VS max distant image during grip\n",
    "data_path = code_dir / \"data/frames\"\n",
    "file_list = sorted(data_path.glob(\"center*jpg\"))\n",
    "first_image = io.imread(file_list[0])\n",
    "mid_image = io.imread(file_list[-1])\n",
    "max_image = io.imread(data_path / \"max_image.jpg\")\n",
    "\n",
    "h, w = first_image.shape[:2]\n",
    "if (0 <= first_y - cropw and first_y + cropw < h and\n",
    "    0 <= first_x - cropw and first_x + cropw < w):\n",
    "    good_episode = True"
   ]
  },
  {
   "cell_type": "code",
   "execution_count": 22,
   "metadata": {},
   "outputs": [],
   "source": [
    "def to_batch(image):\n",
    "    downscaled = resize(image, (224, 224))\n",
    "    batch = torch.from_numpy(downscaled)[None, :, :, :].to(torch.float32) / 255  # [h, w, c] -> [1, h, w, c]\n",
    "    batch = batch.permute(0, 3, 1, 2)  # [1, h, w, c] -> [1, c, h, w]\n",
    "    return batch\n",
    "\n",
    "def cut_crop(image):\n",
    "    \"\"\"\n",
    "    :param image: [h, w, c]\n",
    "    \"\"\"\n",
    "    return image[first_y-cropw:first_y+cropw, first_x-cropw:first_x+cropw]\n",
    "\n",
    "save_images = {\n",
    "    \"crop_first\": cut_crop(first_image),\n",
    "    \"crop_max\": cut_crop(max_image)\n",
    "}\n",
    "\n",
    "for name, image in save_images.items():\n",
    "    io.imsave(data_path / (name + \".jpg\"), image.astype(np.uint8))"
   ]
  },
  {
   "cell_type": "code",
   "execution_count": 23,
   "metadata": {},
   "outputs": [],
   "source": [
    "# === Run resnet on crops\n",
    "dino1 = newmodel(to_batch(cut_crop(first_image))).detach() # [1, c, h, w] range [0, 1] torch.float32\n",
    "dino2 = newmodel(to_batch(cut_crop(max_image))).detach()\n",
    "\n",
    "def scale(diff_image: np.ndarray):\n",
    "    low, high = np.quantile(diff_image, 0.1), np.quantile(diff_image, 0.99)\n",
    "    return np.clip(diff_image / high * 255, 0, 255)\n",
    "\n",
    "diff = dino1 - dino2\n",
    "diff = (diff[0, :, :, :] ** 2).sum(axis=0).numpy() # [h, w]\n",
    "\n",
    "dino_mid = newmodel(to_batch(cut_crop(mid_image))).detach()\n",
    "diff_mid = ((dino_mid - dino2)[0, :, :, :] ** 2).sum(axis=0).numpy()\n",
    "diff_mid = gaussian_filter(diff_mid, sigma=1) * 2\n",
    "diff = diff - diff_mid\n",
    "\n",
    "diff = resize(diff, (cropw*2, cropw*2))\n",
    "\n",
    "io.imsave(data_path / \"result_diff.jpg\", scale(diff).astype(np.uint8))"
   ]
  },
  {
   "cell_type": "code",
   "execution_count": 24,
   "metadata": {},
   "outputs": [],
   "source": [
    "def overlay_crop(canvas: np.ndarray, diff: np.ndarray):\n",
    "    diff = scale(resize(diff, (cropw*2, cropw*2))).astype(np.uint8)\n",
    "    diff = np.tile(diff[:, :, None], (1, 1, 3))  # 1 channel to 3 channels\n",
    "    diff[:, :, 1] = 0\n",
    "    diff[:, :, 2] = 0\n",
    "    \n",
    "    c = np.copy(canvas)\n",
    "    canvas_crop = c[first_y-cropw:first_y+cropw, first_x-cropw:first_x+cropw]\n",
    "    c[first_y-cropw:first_y+cropw, first_x-cropw:first_x+cropw] = canvas_crop * 0.4 + diff * 0.6 # use broadcasting\n",
    "    return c\n",
    "\n",
    "io.imsave(data_path / \"result_overlay.jpg\", overlay_crop(first_image, diff))"
   ]
  },
  {
   "cell_type": "markdown",
   "metadata": {},
   "source": [
    "## Simple difference"
   ]
  },
  {
   "cell_type": "code",
   "execution_count": 41,
   "metadata": {},
   "outputs": [
    {
     "name": "stdout",
     "output_type": "stream",
     "text": [
      "<class 'numpy.ndarray'> uint8 (720, 1280, 3) 0 255\n"
     ]
    },
    {
     "ename": "NameError",
     "evalue": "name 'crop' is not defined",
     "traceback": [
      "\u001b[0;31m---------------------------------------------------------------------------\u001b[0m",
      "\u001b[0;31mNameError\u001b[0m                                 Traceback (most recent call last)",
      "Cell \u001b[0;32mIn[41], line 3\u001b[0m\n\u001b[1;32m      1\u001b[0m \u001b[38;5;66;03m# === Simple difference\u001b[39;00m\n\u001b[1;32m      2\u001b[0m imginfo(first_image)\n\u001b[0;32m----> 3\u001b[0m diff \u001b[38;5;241m=\u001b[39m crop(first_image\u001b[38;5;241m.\u001b[39mastype(np\u001b[38;5;241m.\u001b[39mfloat32)) \u001b[38;5;241m-\u001b[39m crop(max_image\u001b[38;5;241m.\u001b[39mastype(np\u001b[38;5;241m.\u001b[39mfloat32)) \u001b[38;5;66;03m# careful, must be float!\u001b[39;00m\n\u001b[1;32m      4\u001b[0m diff \u001b[38;5;241m=\u001b[39m np\u001b[38;5;241m.\u001b[39msum(diff \u001b[38;5;241m*\u001b[39m\u001b[38;5;241m*\u001b[39m \u001b[38;5;241m2\u001b[39m, axis\u001b[38;5;241m=\u001b[39m\u001b[38;5;241m2\u001b[39m)\n\u001b[1;32m      5\u001b[0m io\u001b[38;5;241m.\u001b[39mimsave(\u001b[38;5;124m\"\u001b[39m\u001b[38;5;124mdata/result_simple.jpg\u001b[39m\u001b[38;5;124m\"\u001b[39m, resize(scale(diff), crop_shape[:\u001b[38;5;241m2\u001b[39m])\u001b[38;5;241m.\u001b[39mastype(np\u001b[38;5;241m.\u001b[39muint8))\n",
      "\u001b[0;31mNameError\u001b[0m: name 'crop' is not defined"
     ],
     "output_type": "error"
    }
   ],
   "source": [
    "# === Simple difference\n",
    "imginfo(first_image)\n",
    "diff = crop(first_image.astype(np.float32)) - crop(max_image.astype(np.float32)) # careful, must be float!\n",
    "diff = np.sum(diff ** 2, axis=2)\n",
    "io.imsave(\"data/result_simple.jpg\", resize(scale(diff), crop_shape[:2]).astype(np.uint8))"
   ]
  },
  {
   "cell_type": "code",
   "execution_count": 15,
   "metadata": {},
   "outputs": [],
   "source": [
    "data_path = Path(\"data\")\n",
    "file_list = sorted(data_path.glob(\"before_*jpg\"))\n",
    "before_image = io.imread(file_list[-3])\n",
    "\n",
    "file_list = sorted(data_path.glob(\"after_*jpg\"))\n",
    "after_image = io.imread(file_list[3])\n",
    "\n",
    "grip_image = io.imread(\"data/grip_image.jpg\")"
   ]
  },
  {
   "cell_type": "code",
   "execution_count": 29,
   "metadata": {},
   "outputs": [],
   "source": [
    "# === Simple difference\n",
    "diff = crop(grip_image.astype(np.float32)) - crop(before_image.astype(np.float32)) # careful, must be float!\n",
    "diff = np.sum(diff ** 2, axis=2)\n",
    "diff[diff < 10000] = 0\n",
    "diff[diff > 10000] = 1\n",
    "\n",
    "diff_2 = crop(grip_image.astype(np.float32)) - crop(after_image.astype(np.float32)) # careful, must be float!\n",
    "diff_2 = np.sum(diff_2 ** 2, axis=2)\n",
    "\n",
    "#diff_2 = diff_2 - diff * 100\n",
    "io.imsave(\"data/result_0.jpg\", resize(scale(diff), crop_shape[:2]).astype(np.uint8))\n",
    "io.imsave(\"data/result_1.jpg\", resize(scale(diff_2), crop_shape[:2]).astype(np.uint8))\n"
   ]
  },
  {
   "cell_type": "code",
   "execution_count": 18,
   "metadata": {},
   "outputs": [],
   "source": [
    "io.imsave(\"data/a1.jpg\", crop(before_image).astype(np.uint8))\n",
    "io.imsave(\"data/a2.jpg\", crop(grip_image).astype(np.uint8))\n",
    "io.imsave(\"data/a3.jpg\", crop(after_image).astype(np.uint8))"
   ]
  }
 ],
 "metadata": {
  "kernelspec": {
   "display_name": "Python 3 (ipykernel)",
   "language": "python",
   "name": "python3"
  },
  "language_info": {
   "codemirror_mode": {
    "name": "ipython",
    "version": 3
   },
   "file_extension": ".py",
   "mimetype": "text/x-python",
   "name": "python",
   "nbconvert_exporter": "python",
   "pygments_lexer": "ipython3",
   "version": "3.11.9"
  }
 },
 "nbformat": 4,
 "nbformat_minor": 5
}

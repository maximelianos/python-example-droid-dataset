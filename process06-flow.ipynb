{
 "cells": [
  {
   "cell_type": "code",
   "execution_count": 1,
   "id": "6f9a3b81-208f-4908-ad20-6e734d9c139a",
   "metadata": {},
   "outputs": [
    {
     "name": "stderr",
     "output_type": "stream",
     "text": [
      "/home/iternal/miniconda3/envs/rerun/lib/python3.11/site-packages/torchvision/io/image.py:13: UserWarning: Failed to load image Python extension: '/home/iternal/miniconda3/envs/rerun/lib/python3.11/site-packages/torchvision/image.so: undefined symbol: _ZN3c1017RegisterOperatorsD1Ev'If you don't plan on using image functionality from `torchvision.io`, you can ignore this warning. Otherwise, there might be something wrong with your environment. Did you have `libjpeg` or `libpng` installed before building `torchvision` from source?\n",
      "  warn(\n"
     ]
    }
   ],
   "source": [
    "# google: torchvision optical flow\n",
    "\n",
    "from pathlib import Path\n",
    "import numpy as np\n",
    "from skimage import io\n",
    "from skimage.transform import rescale, resize\n",
    "from scipy.ndimage import gaussian_filter\n",
    "from scipy import ndimage\n",
    "\n",
    "import torch\n",
    "import matplotlib.pyplot as plt\n",
    "import torchvision.transforms.functional as F\n",
    "import torchvision.transforms as T\n",
    "\n",
    "imginfo = lambda img: print(type(img), img.dtype, img.shape, img.min(), img.max())"
   ]
  },
  {
   "cell_type": "code",
   "execution_count": 2,
   "id": "beb25d73-7bd3-4026-ba0e-40ff2f1327af",
   "metadata": {},
   "outputs": [
    {
     "name": "stderr",
     "output_type": "stream",
     "text": [
      "/home/iternal/miniconda3/envs/rerun/lib/python3.11/site-packages/torchvision/models/_utils.py:208: UserWarning: The parameter 'pretrained' is deprecated since 0.13 and may be removed in the future, please use 'weights' instead.\n",
      "  warnings.warn(\n",
      "/home/iternal/miniconda3/envs/rerun/lib/python3.11/site-packages/torchvision/models/_utils.py:223: UserWarning: Arguments other than a weight enum or `None` for 'weights' are deprecated since 0.13 and may be removed in the future. The current behavior is equivalent to passing `weights=Raft_Large_Weights.C_T_SKHT_V2`. You can also use `weights=Raft_Large_Weights.DEFAULT` to get the most up-to-date weights.\n",
      "  warnings.warn(msg)\n"
     ]
    }
   ],
   "source": [
    "from torchvision.models.optical_flow import raft_large\n",
    "\n",
    "device = \"cpu\"\n",
    "model = raft_large(pretrained=True, progress=False).to(device)\n",
    "model = model.eval()"
   ]
  },
  {
   "cell_type": "code",
   "execution_count": 3,
   "id": "32c174a1-0832-4727-8ade-a3253d210bc7",
   "metadata": {},
   "outputs": [],
   "source": [
    "# === load first touch coors\n",
    "import json\n",
    "with open(\"data/single_log.json\") as f:\n",
    "    episode_log = json.load(f)\n",
    "first_x, first_y, first_z = map(int, episode_log[\"first_touch\"])\n",
    "cropw = 200\n",
    "\n",
    "def cut_crop(image):\n",
    "    \"\"\"\n",
    "    :param image: [h, w, c]\n",
    "    \"\"\"\n",
    "    return image[first_y-cropw:first_y+cropw, first_x-cropw:first_x+cropw]"
   ]
  },
  {
   "cell_type": "code",
   "execution_count": 22,
   "id": "5999ed79-6182-4832-85df-b543f62c974a",
   "metadata": {},
   "outputs": [
    {
     "name": "stdout",
     "output_type": "stream",
     "text": [
      "image list: 8\n"
     ]
    }
   ],
   "source": [
    "# === Load images\n",
    "file_list = sorted(Path(\"data/frames\").glob(\"center*jpg\"))\n",
    "print(\"image list:\", len(file_list))\n",
    "\n",
    "before = io.imread(file_list[0]).astype(np.float32)\n",
    "grip = io.imread(\"data/frames/grip_image.jpg\").astype(np.float32)\n",
    "after = io.imread(file_list[5]).astype(np.float32) # [h, w, c]\n",
    "\n",
    "#before = cut_crop(before)\n",
    "#grip = cut_crop(grip)\n",
    "#after = cut_crop(after)\n",
    "\n",
    "io.imsave(\"data/crop_1.jpg\", before.astype(np.uint8))\n",
    "io.imsave(\"data/crop_2.jpg\", grip.astype(np.uint8))\n",
    "io.imsave(\"data/crop_3.jpg\", after.astype(np.uint8))"
   ]
  },
  {
   "cell_type": "code",
   "execution_count": 23,
   "id": "77a5cda1-f124-40d3-8a1c-3772d32dc404",
   "metadata": {},
   "outputs": [
    {
     "name": "stdout",
     "output_type": "stream",
     "text": [
      "<class 'torch.Tensor'> torch.float32 torch.Size([1, 3, 720, 1280]) tensor(-1.) tensor(1.)\n"
     ]
    }
   ],
   "source": [
    "def to_batch(image):\n",
    "    batch = torch.from_numpy(image)[None, :, :, :].to(torch.float32) / 255  # [h, w, c] -> [1, h, w, c]\n",
    "    batch = batch.permute(0, 3, 1, 2)  # [1, h, w, c] -> [1, c, h, w]\n",
    "    \n",
    "    transforms = T.Compose(\n",
    "        [\n",
    "            T.ConvertImageDtype(torch.float32),\n",
    "            T.Normalize(mean=0.5, std=0.5),  # map [0, 1] into [-1, 1]\n",
    "            #T.Resize(size=(520, 960)),\n",
    "        ]\n",
    "    )\n",
    "    batch = transforms(batch)\n",
    "    return batch\n",
    "\n",
    "img1_batch = to_batch(grip)\n",
    "img2_batch = to_batch(after)\n",
    "imginfo(img1_batch)"
   ]
  },
  {
   "cell_type": "code",
   "execution_count": 24,
   "id": "c14afd61-a882-4e71-a7e3-1d4e621b6e97",
   "metadata": {},
   "outputs": [],
   "source": [
    "from torchvision.utils import flow_to_image\n",
    "\n",
    "def compute_flow(img1_batch, img2_batch):\n",
    "    with torch.no_grad():\n",
    "        list_of_flows = model(img1_batch.to(device), img2_batch.to(device))\n",
    "    print(f\"length = {len(list_of_flows)} = number of iterations of the model\")\n",
    "    predicted_flows = list_of_flows[-1].detach()\n",
    "\n",
    "    flow_imgs = flow_to_image(predicted_flows)\n",
    "    \n",
    "    # The images have been mapped into [-1, 1] but for plotting we want them in [0, 1]\n",
    "    img1_batch = [(img1 + 1) / 2 for img1 in img1_batch]\n",
    "    \n",
    "    grid = [[img1, flow_img] for (img1, flow_img) in zip(img1_batch, flow_imgs)]\n",
    "    \n",
    "    return grid[0][1]\n",
    "    "
   ]
  },
  {
   "cell_type": "code",
   "execution_count": 25,
   "id": "f1956d5a-372d-47d8-bb2a-e926ee80d0ba",
   "metadata": {},
   "outputs": [
    {
     "name": "stdout",
     "output_type": "stream",
     "text": [
      "length = 12 = number of iterations of the model\n"
     ]
    }
   ],
   "source": [
    "flow = compute_flow(img1_batch, img2_batch)\n",
    "\n",
    "def save_torch(path, tensor):\n",
    "    \"\"\"\n",
    "    tensor: [c, h, w] cuda float32 [0, 1]\n",
    "    \"\"\"\n",
    "    img = (tensor.to(\"cpu\").permute([1, 2, 0]).numpy() * 255).astype(np.uint8)\n",
    "    io.imsave(path, img)\n",
    "\n",
    "save_torch(\"data/raft_flow.jpg\", flow)"
   ]
  },
  {
   "cell_type": "code",
   "execution_count": 26,
   "id": "d70e6bb1-2c6d-4585-8115-218f87ff0b7b",
   "metadata": {},
   "outputs": [
    {
     "name": "stdout",
     "output_type": "stream",
     "text": [
      "length = 12 = number of iterations of the model\n"
     ]
    }
   ],
   "source": [
    "img1_batch = to_batch(grip)\n",
    "img2_batch = to_batch(before)\n",
    "flow = compute_flow(img1_batch, img2_batch)\n",
    "save_torch(\"data/raft_flow_2.jpg\", flow)"
   ]
  },
  {
   "cell_type": "code",
   "execution_count": null,
   "id": "8726d12e-bb8f-47df-ad21-a4a3bcd8758f",
   "metadata": {},
   "outputs": [],
   "source": []
  }
 ],
 "metadata": {
  "kernelspec": {
   "display_name": "Python 3 (ipykernel)",
   "language": "python",
   "name": "python3"
  },
  "language_info": {
   "codemirror_mode": {
    "name": "ipython",
    "version": 3
   },
   "file_extension": ".py",
   "mimetype": "text/x-python",
   "name": "python",
   "nbconvert_exporter": "python",
   "pygments_lexer": "ipython3",
   "version": "3.11.9"
  }
 },
 "nbformat": 4,
 "nbformat_minor": 5
}

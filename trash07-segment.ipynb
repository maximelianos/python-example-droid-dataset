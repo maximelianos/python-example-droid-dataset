{
 "cells": [
  {
   "cell_type": "code",
   "execution_count": 1,
   "metadata": {},
   "outputs": [
    {
     "name": "stderr",
     "output_type": "stream",
     "text": [
      "/home/iter/miniconda3/envs/rerun/lib/python3.11/site-packages/torchvision/io/image.py:13: UserWarning: Failed to load image Python extension: '/home/iter/miniconda3/envs/rerun/lib/python3.11/site-packages/torchvision/image.so: undefined symbol: _ZN3c1017RegisterOperatorsD1Ev'If you don't plan on using image functionality from `torchvision.io`, you can ignore this warning. Otherwise, there might be something wrong with your environment. Did you have `libjpeg` or `libpng` installed before building `torchvision` from source?\n",
      "  warn(\n",
      "/home/iter/miniconda3/envs/rerun/lib/python3.11/site-packages/torchvision/models/_utils.py:208: UserWarning: The parameter 'pretrained' is deprecated since 0.13 and may be removed in the future, please use 'weights' instead.\n",
      "  warnings.warn(\n",
      "/home/iter/miniconda3/envs/rerun/lib/python3.11/site-packages/torchvision/models/_utils.py:223: UserWarning: Arguments other than a weight enum or `None` for 'weights' are deprecated since 0.13 and may be removed in the future. The current behavior is equivalent to passing `weights=Raft_Large_Weights.C_T_SKHT_V2`. You can also use `weights=Raft_Large_Weights.DEFAULT` to get the most up-to-date weights.\n",
      "  warnings.warn(msg)\n"
     ]
    }
   ],
   "source": [
    "# google: torchvision optical flow\n",
    "\n",
    "from pathlib import Path\n",
    "import numpy as np\n",
    "from skimage import io\n",
    "from skimage.transform import rescale, resize\n",
    "from scipy.ndimage import gaussian_filter\n",
    "from scipy import ndimage\n",
    "\n",
    "import torch\n",
    "import matplotlib.pyplot as plt\n",
    "import torchvision.transforms.functional as F\n",
    "import torchvision.transforms as T\n",
    "\n",
    "imginfo = lambda img: print(type(img), img.dtype, img.shape, img.min(), img.max())\n",
    "\n",
    "from torchvision.models.optical_flow import raft_large\n",
    "\n",
    "device = \"cpu\"\n",
    "model = raft_large(pretrained=True, progress=False).to(device)\n",
    "model = model.eval()"
   ]
  },
  {
   "cell_type": "code",
   "execution_count": 2,
   "metadata": {},
   "outputs": [],
   "source": [
    "data_dir = Path(\"data\")\n",
    "\n",
    "# === load first touch coors\n",
    "import json\n",
    "with open(\"data/single_log.json\") as f:\n",
    "    episode_log = json.load(f)\n",
    "first_x, first_y, first_z = map(int, episode_log[\"first_touch\"])\n",
    "cropw = 200\n",
    "\n",
    "def cut_crop(image):\n",
    "    \"\"\"\n",
    "    :param image: [h, w, c]\n",
    "    \"\"\"\n",
    "    return image[first_y-cropw:first_y+cropw, first_x-cropw:first_x+cropw]"
   ]
  },
  {
   "cell_type": "code",
   "execution_count": 3,
   "metadata": {},
   "outputs": [],
   "source": [
    "# === read numpy image\n",
    "def read_image(path):\n",
    "    return io.imread(path).astype(np.float32) / 255\n",
    "\n",
    "# === prepare batch for RAFT\n",
    "def to_batch(image):\n",
    "    batch = torch.from_numpy(image)[None, :, :, :].to(torch.float32) / 255  # [h, w, c] -> [1, h, w, c]\n",
    "    batch = batch.permute(0, 3, 1, 2)  # [1, h, w, c] -> [1, c, h, w]\n",
    "    \n",
    "    transforms = T.Compose(\n",
    "        [\n",
    "            T.ConvertImageDtype(torch.float32),\n",
    "            T.Normalize(mean=0.5, std=0.5),  # map [0, 1] into [-1, 1]\n",
    "            #T.Resize(size=(520, 960)),\n",
    "        ]\n",
    "    )\n",
    "    batch = transforms(batch)\n",
    "    return batch\n",
    "\n",
    "# === compute flow with RAFT\n",
    "from torchvision.utils import flow_to_image\n",
    "\n",
    "def compute_flow_picture(img1_batch, img2_batch):\n",
    "    with torch.no_grad():\n",
    "        list_of_flows = model(img1_batch.to(device), img2_batch.to(device))\n",
    "    print(f\"length = {len(list_of_flows)} = number of iterations of the model\")\n",
    "    predicted_flows = list_of_flows[-1].detach()\n",
    "\n",
    "    flow_imgs = flow_to_image(predicted_flows)\n",
    "    \n",
    "    # The images have been mapped into [-1, 1] but for plotting we want them in [0, 1]\n",
    "    img1_batch = [(img1 + 1) / 2 for img1 in img1_batch]\n",
    "    \n",
    "    grid = [[img1, flow_img] for (img1, flow_img) in zip(img1_batch, flow_imgs)]\n",
    "    \n",
    "    return grid[0][1]\n",
    "\n",
    "# === save image from RAFT\n",
    "\n",
    "def save_torch(path, tensor):\n",
    "    \"\"\"\n",
    "    tensor: [c, h, w] cuda float32 [0, 1]\n",
    "    \"\"\"\n",
    "    img = (tensor.to(\"cpu\").permute([1, 2, 0]).numpy() * 255).astype(np.uint8)\n",
    "    io.imsave(path, img)\n"
   ]
  },
  {
   "cell_type": "code",
   "execution_count": 5,
   "metadata": {},
   "outputs": [
    {
     "name": "stdout",
     "output_type": "stream",
     "text": [
      "length = 12 = number of iterations of the model\n"
     ]
    }
   ],
   "source": [
    "# === run flow\n",
    "file_list = sorted(Path(\"data/frames\").glob(\"center*jpg\"))\n",
    "i1 = read_image(file_list[2]) # [h, w, 3] float32 [0, 1]\n",
    "i2 = read_image(data_dir / \"frames/grip_image.jpg\")\n",
    "\n",
    "io.imsave(\"data/image_1.jpg\", (i1 * 255).astype(np.uint8))\n",
    "io.imsave(\"data/image_2.jpg\", (i2 * 255).astype(np.uint8))\n",
    "\n",
    "img1_batch = to_batch(i2)\n",
    "img2_batch = to_batch(i1)\n",
    "flow = compute_flow_picture(img1_batch, img2_batch)\n",
    "save_torch(\"data/raft_flow.jpg\", flow)"
   ]
  },
  {
   "cell_type": "code",
   "execution_count": 6,
   "metadata": {},
   "outputs": [],
   "source": [
    "# === segment flow\n",
    "\n",
    "# idea is to take the moving region closest to the center.\n",
    "# For that I first threshold the moving part,\n",
    "# then take histogram of distances from the center.\n",
    "def compute_flow(img1_batch, img2_batch):\n",
    "    with torch.no_grad():\n",
    "        list_of_flows = model(img1_batch.to(device), img2_batch.to(device))\n",
    "    print(f\"length = {len(list_of_flows)} = number of iterations of the model\")\n",
    "    predicted_flows = list_of_flows[-1].detach()\n",
    "\n",
    "    return predicted_flows"
   ]
  },
  {
   "cell_type": "code",
   "execution_count": 7,
   "metadata": {},
   "outputs": [
    {
     "name": "stdout",
     "output_type": "stream",
     "text": [
      "length = 12 = number of iterations of the model\n",
      "<class 'torch.Tensor'> torch.float32 torch.Size([1, 2, 720, 1280]) tensor(-36.4142) tensor(5.6763)\n"
     ]
    }
   ],
   "source": [
    "flow = compute_flow(img1_batch, img2_batch)\n",
    "imginfo(flow) # (u, v) - horizontal, vertical"
   ]
  },
  {
   "cell_type": "code",
   "execution_count": 8,
   "metadata": {},
   "outputs": [
    {
     "name": "stdout",
     "output_type": "stream",
     "text": [
      "<class 'torch.Tensor'> torch.float32 torch.Size([720, 1280]) tensor(0.0052) tensor(38.0201)\n"
     ]
    }
   ],
   "source": [
    "# magnitude\n",
    "mag = (flow[0, 0, :, :] ** 2 + flow[0, 1, :, :] ** 2) ** 0.5\n",
    "imginfo(mag)"
   ]
  },
  {
   "cell_type": "code",
   "execution_count": 9,
   "metadata": {},
   "outputs": [
    {
     "name": "stdout",
     "output_type": "stream",
     "text": [
      "tensor([ 0.7376, 16.7610, 22.7723, 30.6017])\n",
      "tensor([ 1.4278, 25.7486, 29.0186, 32.9353])\n"
     ]
    }
   ],
   "source": [
    "# hint: quantile\n",
    "q = torch.tensor([0.5, 0.9, 0.95, 0.99])\n",
    "print(torch.quantile(mag, q)) # distribution from whole image\n",
    "print(torch.quantile(mag[mag > 1], q)) # distribtuion from moving region\n",
    "# conclusion: unit of flow is pixels!"
   ]
  },
  {
   "cell_type": "code",
   "execution_count": 10,
   "metadata": {},
   "outputs": [
    {
     "name": "stdout",
     "output_type": "stream",
     "text": [
      "720 1280\n",
      "0.131083984375\n"
     ]
    }
   ],
   "source": [
    "# area of the moving region?\n",
    "_b, _c, h, w = flow.shape\n",
    "print(h, w)\n",
    "pixels = torch.sum(mag > 5).numpy()\n",
    "print(pixels / (h * w))"
   ]
  },
  {
   "cell_type": "code",
   "execution_count": 13,
   "metadata": {},
   "outputs": [
    {
     "name": "stdout",
     "output_type": "stream",
     "text": [
      "0.33602795004844666 30.601709728240966\n"
     ]
    }
   ],
   "source": [
    "def to_01(image):\n",
    "    # image: numpy float32 [a, b]\n",
    "    low, high = np.quantile(image, 0.01), np.quantile(image, 0.99)\n",
    "    return np.clip(image / high, 0, 1)\n",
    "\n",
    "mask = to_01(mag.to(\"cpu\").numpy())\n",
    "io.imsave(\"data/mask.jpg\", (mask * 255).astype(np.uint8))"
   ]
  },
  {
   "cell_type": "code",
   "execution_count": 20,
   "metadata": {},
   "outputs": [],
   "source": [
    "# === visualize\n",
    "def overlay_mask(canvas: np.ndarray, mask: np.ndarray):\n",
    "    # canvas: [h, w, 3] float32 [0, 1]\n",
    "    # mask: [h, w] int [0, 1]\n",
    "    mask = np.tile(mask[:, :, None], (1, 1, 3))  # 1 channel to 3 channels\n",
    "    mask[:, :, 1] = 0\n",
    "    mask[:, :, 2] = 0\n",
    "    \n",
    "    c = np.copy(canvas)\n",
    "    c =  c * 0.4 + mask * 0.6\n",
    "    return c\n",
    "\n",
    "overlay = overlay_mask(i2, mask)\n",
    "io.imsave(\"data/overlay.jpg\", (overlay * 255).astype(np.uint8))"
   ]
  },
  {
   "cell_type": "code",
   "execution_count": null,
   "metadata": {},
   "outputs": [],
   "source": []
  }
 ],
 "metadata": {
  "kernelspec": {
   "display_name": "Python 3 (ipykernel)",
   "language": "python",
   "name": "python3"
  },
  "language_info": {
   "codemirror_mode": {
    "name": "ipython",
    "version": 3
   },
   "file_extension": ".py",
   "mimetype": "text/x-python",
   "name": "python",
   "nbconvert_exporter": "python",
   "pygments_lexer": "ipython3",
   "version": "3.11.9"
  }
 },
 "nbformat": 4,
 "nbformat_minor": 5
}

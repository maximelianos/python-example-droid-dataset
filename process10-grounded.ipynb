{
 "cells": [
  {
   "cell_type": "code",
   "execution_count": 15,
   "id": "bb818745-1178-4447-bc05-a43a59bd6318",
   "metadata": {},
   "outputs": [
    {
     "data": {
      "application/vnd.jupyter.widget-view+json": {
       "model_id": "b68c380c864f4425bc40ea4ff0cf1456",
       "version_major": 2,
       "version_minor": 0
      },
      "text/plain": [
       "preprocessor_config.json:   0%|          | 0.00/457 [00:00<?, ?B/s]"
      ]
     },
     "metadata": {},
     "output_type": "display_data"
    },
    {
     "data": {
      "application/vnd.jupyter.widget-view+json": {
       "model_id": "2d74986df9e44910bc0ada346420d8f3",
       "version_major": 2,
       "version_minor": 0
      },
      "text/plain": [
       "tokenizer_config.json:   0%|          | 0.00/1.24k [00:00<?, ?B/s]"
      ]
     },
     "metadata": {},
     "output_type": "display_data"
    },
    {
     "data": {
      "application/vnd.jupyter.widget-view+json": {
       "model_id": "cd74b5288c704e938e2cc5b210c82489",
       "version_major": 2,
       "version_minor": 0
      },
      "text/plain": [
       "vocab.txt:   0%|          | 0.00/232k [00:00<?, ?B/s]"
      ]
     },
     "metadata": {},
     "output_type": "display_data"
    },
    {
     "data": {
      "application/vnd.jupyter.widget-view+json": {
       "model_id": "8ff2ff4a3ef84768ab947e656bf08c2f",
       "version_major": 2,
       "version_minor": 0
      },
      "text/plain": [
       "tokenizer.json:   0%|          | 0.00/711k [00:00<?, ?B/s]"
      ]
     },
     "metadata": {},
     "output_type": "display_data"
    },
    {
     "data": {
      "application/vnd.jupyter.widget-view+json": {
       "model_id": "6906ce57cbf14cf7939333baea40f981",
       "version_major": 2,
       "version_minor": 0
      },
      "text/plain": [
       "special_tokens_map.json:   0%|          | 0.00/125 [00:00<?, ?B/s]"
      ]
     },
     "metadata": {},
     "output_type": "display_data"
    },
    {
     "data": {
      "application/vnd.jupyter.widget-view+json": {
       "model_id": "0dd3556df5374cc48a7ab17ff1150641",
       "version_major": 2,
       "version_minor": 0
      },
      "text/plain": [
       "config.json:   0%|          | 0.00/1.74k [00:00<?, ?B/s]"
      ]
     },
     "metadata": {},
     "output_type": "display_data"
    },
    {
     "data": {
      "application/vnd.jupyter.widget-view+json": {
       "model_id": "62d937985998487ea7a95280ea7b4ef6",
       "version_major": 2,
       "version_minor": 0
      },
      "text/plain": [
       "model.safetensors:   0%|          | 0.00/933M [00:00<?, ?B/s]"
      ]
     },
     "metadata": {},
     "output_type": "display_data"
    },
    {
     "name": "stdout",
     "output_type": "stream",
     "text": [
      "Detected 1 with confidence 0.44 at location [773.7, 340.5, 818.9, 384.7]\n"
     ]
    }
   ],
   "source": [
    "import requests\n",
    "\n",
    "import torch\n",
    "from PIL import Image\n",
    "from transformers import AutoProcessor, AutoModelForZeroShotObjectDetection\n",
    "\n",
    "model_id = \"IDEA-Research/grounding-dino-base\"\n",
    "\n",
    "processor = AutoProcessor.from_pretrained(model_id)\n",
    "device = \"cuda\"\n",
    "model = AutoModelForZeroShotObjectDetection.from_pretrained(model_id).to(device)\n"
   ]
  },
  {
   "cell_type": "code",
   "execution_count": 40,
   "id": "fa4ab1c6-255d-4c51-92be-01503d3c5674",
   "metadata": {},
   "outputs": [
    {
     "name": "stdout",
     "output_type": "stream",
     "text": [
      "Detected 1 with confidence 0.7 at location [753.3, 467.8, 921.2, 552.5]\n"
     ]
    }
   ],
   "source": [
    "from pathlib import Path\n",
    "\n",
    "file_list = sorted(Path(\"plot/f1\").glob(\"*jpg\"))\n",
    "image_url = str(file_list[3])\n",
    "image = Image.open(image_url)\n",
    "# Check for cats and remote controls\n",
    "text = \"a pen.\"\n",
    "\n",
    "inputs = processor(images=image, text=text, return_tensors=\"pt\").to(device)\n",
    "with torch.no_grad():\n",
    "    outputs = model(**inputs)\n",
    "\n",
    "# convert outputs (bounding boxes and class logits) to COCO API\n",
    "\n",
    "target_sizes = torch.tensor([image.size[::-1]])\n",
    "\n",
    "results = processor.image_processor.post_process_object_detection(\n",
    "\n",
    "    outputs, threshold=0.35, target_sizes=target_sizes\n",
    "\n",
    ")[0]\n",
    "\n",
    "for score, label, box in zip(results[\"scores\"], results[\"labels\"], results[\"boxes\"]):\n",
    "\n",
    "    box = [round(i, 1) for i in box.tolist()]\n",
    "    conf = round(score.item(), 2)\n",
    "\n",
    "    print(f\"Detected {label.item()} with confidence \" f\"{round(score.item(), 2)} at location {box}\")"
   ]
  },
  {
   "cell_type": "code",
   "execution_count": 41,
   "id": "6a5d2677-2e3d-4d96-be91-5345ec7001ff",
   "metadata": {},
   "outputs": [
    {
     "data": {
      "text/plain": [
       "True"
      ]
     },
     "execution_count": 41,
     "metadata": {},
     "output_type": "execute_result"
    }
   ],
   "source": [
    "import ultralytics\n",
    "from ultralytics.utils.plotting import Annotator\n",
    "\n",
    "annotator = Annotator(image)\n",
    "annotator.box_label(box, label=str(conf), color=(0, 204, 0)) # The bounding box coordinates (x1, y1, x2, y2)\n",
    "\n",
    "import cv2\n",
    "result = annotator.result()\n",
    "cv2.imwrite(\"plot.jpg\", cv2.cvtColor(result, cv2.COLOR_RGB2BGR), [cv2.IMWRITE_JPEG_QUALITY, 100])"
   ]
  },
  {
   "cell_type": "code",
   "execution_count": null,
   "id": "30734594-21e5-44d6-ab33-85d5be06da29",
   "metadata": {},
   "outputs": [],
   "source": []
  }
 ],
 "metadata": {
  "kernelspec": {
   "display_name": "Python 3 (ipykernel)",
   "language": "python",
   "name": "python3"
  },
  "language_info": {
   "codemirror_mode": {
    "name": "ipython",
    "version": 3
   },
   "file_extension": ".py",
   "mimetype": "text/x-python",
   "name": "python",
   "nbconvert_exporter": "python",
   "pygments_lexer": "ipython3",
   "version": "3.11.9"
  }
 },
 "nbformat": 4,
 "nbformat_minor": 5
}

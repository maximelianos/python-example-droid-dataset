{
 "cells": [
  {
   "cell_type": "code",
   "execution_count": null,
   "id": "66d7d403-d71a-4064-b90e-f3bf982d6800",
   "metadata": {},
   "outputs": [],
   "source": [
    "# google: torchvision optical flow\n",
    "\n",
    "from pathlib import Path\n",
    "import numpy as np\n",
    "from skimage import io\n",
    "from skimage.transform import rescale, resize\n",
    "from scipy.ndimage import gaussian_filter\n",
    "from scipy import ndimage\n",
    "\n",
    "import torch\n",
    "import matplotlib.pyplot as plt\n",
    "import torchvision.transforms.functional as F\n",
    "import torchvision.transforms as T\n",
    "\n",
    "imginfo = lambda img: print(type(img), img.dtype, img.shape, img.min(), img.max())"
   ]
  },
  {
   "cell_type": "code",
   "execution_count": null,
   "id": "107d4f50-d79d-4dea-9a27-d8855a7f571c",
   "metadata": {},
   "outputs": [],
   "source": [
    "from torchvision.models.optical_flow import raft_small\n",
    "\n",
    "device = \"cpu\"\n",
    "model = raft_small(pretrained=True, progress=False).to(device)\n",
    "model = model.eval()"
   ]
  },
  {
   "cell_type": "code",
   "execution_count": null,
   "id": "d5543239-2dba-4eff-aeec-2af04152bf55",
   "metadata": {},
   "outputs": [],
   "source": [
    "# === load first touch coors\n",
    "import json\n",
    "with open(\"data/single_log.json\") as f:\n",
    "    episode_log = json.load(f)\n",
    "first_x, first_y, first_z = map(int, episode_log[\"first_touch\"])\n",
    "cropw = 200\n",
    "\n",
    "def cut_crop(image):\n",
    "    \"\"\"\n",
    "    :param image: [h, w, c]\n",
    "    \"\"\"\n",
    "    return image[first_y-cropw:first_y+cropw, first_x-cropw:first_x+cropw]"
   ]
  },
  {
   "cell_type": "code",
   "execution_count": null,
   "id": "49750ca8-a46b-40d1-9cba-85e6bed902eb",
   "metadata": {},
   "outputs": [],
   "source": [
    "# === prepare batch for RAFT\n",
    "def to_batch(image):\n",
    "    batch = torch.from_numpy(image)[None, :, :, :].to(torch.float32) / 255  # [h, w, c] -> [1, h, w, c]\n",
    "    batch = batch.permute(0, 3, 1, 2)  # [1, h, w, c] -> [1, c, h, w]\n",
    "    \n",
    "    transforms = T.Compose(\n",
    "        [\n",
    "            T.ConvertImageDtype(torch.float32),\n",
    "            T.Normalize(mean=0.5, std=0.5),  # map [0, 1] into [-1, 1]\n",
    "            #T.Resize(size=(520, 960)),\n",
    "        ]\n",
    "    )\n",
    "    batch = transforms(batch)\n",
    "    return batch\n",
    "\n",
    "# === compute flow with RAFT\n",
    "from torchvision.utils import flow_to_image\n",
    "\n",
    "def compute_flow_picture(img1_batch, img2_batch):\n",
    "    with torch.no_grad():\n",
    "        list_of_flows = model(img1_batch.to(device), img2_batch.to(device))\n",
    "    print(f\"length = {len(list_of_flows)} = number of iterations of the model\")\n",
    "    predicted_flows = list_of_flows[-1].detach()\n",
    "\n",
    "    flow_imgs = flow_to_image(predicted_flows)\n",
    "    \n",
    "    # The images have been mapped into [-1, 1] but for plotting we want them in [0, 1]\n",
    "    img1_batch = [(img1 + 1) / 2 for img1 in img1_batch]\n",
    "    \n",
    "    grid = [[img1, flow_img] for (img1, flow_img) in zip(img1_batch, flow_imgs)]\n",
    "    \n",
    "    return grid[0][1]\n",
    "\n",
    "# === save image from RAFT\n",
    "\n",
    "def save_torch(path, tensor):\n",
    "    \"\"\"\n",
    "    tensor: [c, h, w] cuda float32 [0, 1]\n",
    "    \"\"\"\n",
    "    img = (tensor.to(\"cpu\").permute([1, 2, 0]).numpy() * 255).astype(np.uint8)\n",
    "    io.imsave(path, img)\n"
   ]
  },
  {
   "cell_type": "code",
   "execution_count": null,
   "id": "97410f00-ede0-4b86-88ec-494f2e6a4ce4",
   "metadata": {},
   "outputs": [],
   "source": [
    "# === Run flow\n",
    "file_list = sorted(Path(\"data/frames\").glob(\"center*jpg\"))\n",
    "i1 = io.imread(file_list[2]).astype(np.float32) / 255 # [h, w, 3] float32 [0, 1]\n",
    "i2 = io.imread(\"data/frames/grip_image.jpg\").astype(np.float32) / 255\n",
    "\n",
    "#i2 = io.imread(file_list[3]).astype(np.float32) / 255\n",
    "\n",
    "img1_batch = to_batch(i2) # flow from second image to first\n",
    "img2_batch = to_batch(i1)\n",
    "# flow = compute_flow_picture(img1_batch, img2_batch)\n",
    "# save_torch(\"data/raft_flow.jpg\", flow)\n",
    "\n",
    "io.imsave(\"data/image_1.jpg\", (i1 * 255).astype(np.uint8))\n",
    "io.imsave(\"data/image_2.jpg\", (i2 * 255).astype(np.uint8))"
   ]
  },
  {
   "cell_type": "code",
   "execution_count": null,
   "id": "a21a68fa-4af9-47b4-9da9-6926d841b4c5",
   "metadata": {},
   "outputs": [],
   "source": [
    "# idea is to take the moving region closest to the center.\n",
    "# For that I first threshold the moving part,\n",
    "# then take histogram of distances from the center.\n",
    "def compute_flow(img1_batch, img2_batch):\n",
    "    with torch.no_grad():\n",
    "        list_of_flows = model(img1_batch.to(device), img2_batch.to(device))\n",
    "    print(f\"length = {len(list_of_flows)} = number of iterations of the model\")\n",
    "    predicted_flows = list_of_flows[-1].detach()\n",
    "\n",
    "    return predicted_flows\n",
    "\n",
    "def save_mask(path, tensor):\n",
    "    \"\"\"\n",
    "    tensor: [h, w] cuda float32 [0, 1]\n",
    "    \"\"\"\n",
    "    img = (tensor.to(\"cpu\").numpy() * 255).astype(np.uint8)\n",
    "    io.imsave(path, img)"
   ]
  },
  {
   "cell_type": "code",
   "execution_count": null,
   "id": "62fb1c10-1f26-43d6-8289-67c572e50658",
   "metadata": {},
   "outputs": [],
   "source": [
    "flow = compute_flow(img1_batch, img2_batch) # [b, c, h, w]"
   ]
  },
  {
   "cell_type": "code",
   "execution_count": null,
   "id": "6f9bd558-689a-4e03-9b0d-f0f1681b6b19",
   "metadata": {},
   "outputs": [],
   "source": [
    "# === flow picture\n",
    "# picture = compute_flow_picture(img1_batch, img2_batch)\n",
    "# save_torch(\"data/flow.jpg\", picture)"
   ]
  },
  {
   "cell_type": "code",
   "execution_count": null,
   "id": "dd3f5b3b-58f2-469b-a63b-3c766f6cf582",
   "metadata": {},
   "outputs": [],
   "source": [
    "mag = (flow[0, 0, :, :] ** 2 + flow[0, 1, :, :] ** 2) ** 0.5 # magnitude; (u, v) - horizontal, vertical\n",
    "thr = mag > 10\n",
    "# save_mask(\"data/mask.jpg\", thr)"
   ]
  },
  {
   "cell_type": "code",
   "execution_count": null,
   "id": "790ebb54-04c1-4f1d-b36c-fa1135b9a2e9",
   "metadata": {},
   "outputs": [],
   "source": [
    "# === visualize\n",
    "def overlay_mask(canvas: np.ndarray, mask: np.ndarray):\n",
    "    # canvas: [h, w, 3] float32 [0, 1]\n",
    "    # mask: [h, w] int {False, True}\n",
    "    mask = mask.astype(np.uint8)\n",
    "    mask = np.tile(mask[:, :, None], (1, 1, 3))  # 1 channel to 3 channels\n",
    "    mask[:, :, 1] = 0\n",
    "    mask[:, :, 2] = 0\n",
    "    \n",
    "    c = np.copy(canvas)\n",
    "    c =  c * 0.7 + mask * 0.3\n",
    "    return c"
   ]
  },
  {
   "cell_type": "code",
   "execution_count": null,
   "id": "4ec297d8-762f-4899-ac92-38098ca20fda",
   "metadata": {},
   "outputs": [],
   "source": [
    "mask = thr.to(\"cpu\").numpy()\n",
    "canvas = overlay_mask(i2, mask)\n",
    "io.imsave(\"data/overlay.jpg\", (canvas * 255).astype(np.uint8))"
   ]
  },
  {
   "cell_type": "code",
   "execution_count": null,
   "id": "634a800e-9e26-4cd8-85ee-804c8af183c8",
   "metadata": {},
   "outputs": [],
   "source": [
    "# === playing with quantiles\n",
    "\n",
    "imginfo(mag)\n",
    "q = torch.tensor([0.25, 0.5, 0.9, 0.95, 0.99])\n",
    "print(torch.quantile(mag[thr], q)) # distribution from whole image"
   ]
  },
  {
   "cell_type": "code",
   "execution_count": null,
   "id": "278d9d08-4edc-468e-8375-31d6b39ca2d5",
   "metadata": {},
   "outputs": [],
   "source": [
    "# === compute yx coordinates of pixels\n",
    "rows = torch.arange(0, 2)\n",
    "cols = torch.arange(0, 4)\n",
    "\n",
    "grid_y, grid_x = torch.meshgrid(rows, cols, indexing='ij')\n",
    "print(\"Y-coordinate of pixels\")\n",
    "print(grid_y)\n",
    "\n",
    "print(\"X-coordinate of pixels\")\n",
    "print(grid_x)"
   ]
  },
  {
   "cell_type": "code",
   "execution_count": null,
   "id": "9b7c0b6f-dec4-4aef-b5bb-9adf7f09ef28",
   "metadata": {},
   "outputs": [],
   "source": [
    "# === applying to the image\n",
    "\n",
    "_b, _c, h, w = flow.shape\n",
    "rows = torch.arange(0, h)\n",
    "cols = torch.arange(0, w)\n",
    "grid_y, grid_x = torch.meshgrid(rows, cols, indexing='ij')\n",
    "grid_y = grid_y / h\n",
    "grid_x = grid_x / w"
   ]
  },
  {
   "cell_type": "code",
   "execution_count": null,
   "id": "ba15ca9c-e46b-4210-8288-27fc99b4279a",
   "metadata": {},
   "outputs": [],
   "source": [
    "imginfo(grid_y)"
   ]
  },
  {
   "cell_type": "code",
   "execution_count": null,
   "id": "94518b01-0be7-483b-a974-c6db709a120e",
   "metadata": {},
   "outputs": [],
   "source": [
    "imginfo(mag)\n",
    "selection = grid_y[ (grid_x > 0.25) & (grid_x < 0.75) & (mag > 10)] # CAN BE EMPTY\n",
    "want_area = 60 * 60\n",
    "selection_area = len(selection)\n",
    "if selection_area < want_area * 2:\n",
    "    # cancel process\n",
    "    pass\n",
    "    \n",
    "q = torch.tensor([(selection_area - want_area * 0.5) / selection_area])\n",
    "y_bound = torch.quantile(selection, q)\n",
    "\n",
    "# y-coordinate\n",
    "y_pix = int(((y_bound + 0.1) * h).flatten())\n",
    "print(y_pix)"
   ]
  },
  {
   "cell_type": "code",
   "execution_count": null,
   "id": "907739e8-2287-418e-974d-2a18c7a84e51",
   "metadata": {},
   "outputs": [],
   "source": [
    "# x-coordinate\n",
    "selection = grid_x[(grid_x > 0.25) & (grid_x < 0.75) & (mag > 10) & (grid_y > y_bound)] # CAN BE EMPTY\n",
    "if len(selection) < want_area * 0.25:\n",
    "    # cancel\n",
    "    pass\n",
    "\n",
    "x_bound = torch.mean(selection)\n",
    "x_pix = int((x_bound * w).flatten())\n",
    "print(x_pix)"
   ]
  },
  {
   "cell_type": "code",
   "execution_count": null,
   "id": "75c51c2a-3e6c-4b2e-bb0f-7625b0e44b3b",
   "metadata": {},
   "outputs": [],
   "source": [
    "import skimage\n",
    "\n",
    "def draw_sequence(image: np.array, points: list):\n",
    "    \"\"\"\n",
    "    :param points: [(x, y, color)]\n",
    "        color presets: 0 - begin green, end red;\n",
    "        > 0 - fixed colors.\n",
    "    \"\"\"\n",
    "    colors = {}\n",
    "    colors[0] = np.array([255, 0, 0])\n",
    "    colors[1] = np.array([0, 255, 0])\n",
    "    colors[2] = np.array([0, 0, 255])\n",
    "\n",
    "    canvas = np.copy(image)\n",
    "    for i, (x, y, color) in enumerate(points):\n",
    "        print(x, y)\n",
    "        rows, cols = skimage.draw.disk((y, x), 8, shape=canvas.shape)\n",
    "        k = i / len(points)\n",
    "\n",
    "        if color == 0:\n",
    "            # mix\n",
    "            canvas[rows, cols] = colors[1] * (1-k) + colors[0] * k\n",
    "        else:\n",
    "            # fixed color\n",
    "            canvas[rows, cols] = colors[color]\n",
    "\n",
    "    return canvas\n",
    "\n",
    "canvas = draw_sequence(i2 * 255, [(x_pix, y_pix, 0)])\n",
    "io.imsave(\"data/approximate.jpg\", canvas.astype(np.uint8))"
   ]
  },
  {
   "cell_type": "code",
   "execution_count": null,
   "id": "d353aeea-3f8e-45f5-af79-fd3314821505",
   "metadata": {},
   "outputs": [],
   "source": []
  }
 ],
 "metadata": {
  "kernelspec": {
   "display_name": "Python 3 (ipykernel)",
   "language": "python",
   "name": "python3"
  },
  "language_info": {
   "codemirror_mode": {
    "name": "ipython",
    "version": 3
   },
   "file_extension": ".py",
   "mimetype": "text/x-python",
   "name": "python",
   "nbconvert_exporter": "python",
   "pygments_lexer": "ipython3",
   "version": "3.11.9"
  }
 },
 "nbformat": 4,
 "nbformat_minor": 5
}

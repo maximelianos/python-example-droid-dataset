{
 "cells": [
  {
   "cell_type": "code",
   "execution_count": null,
   "metadata": {},
   "outputs": [],
   "source": [
    "import json\n",
    "from pathlib import Path\n",
    "import os\n",
    "\n",
    "import pandas as pd\n",
    "import matplotlib.pyplot as plt\n",
    "import seaborn as sns"
   ]
  },
  {
   "cell_type": "code",
   "execution_count": null,
   "metadata": {},
   "outputs": [],
   "source": [
    "complete_data = pd.read_json(\"complete_log_0807.json\")\n",
    "# MV must convert to seconds\n",
    "complete_data[\"visible_points\"] /= 14\n",
    "complete_data[\"gripper_duration\"] /= 14\n",
    "complete_data[\"episode_duration\"] /= 14\n",
    "\n",
    "\n",
    "plot_data = complete_data[[\"uuid\", \"org\", \"day\", \"instruction\", \"visible_points\", \"gripper_closed_times\", \"gripper_duration\", \"episode_duration\"]] # select columns"
   ]
  },
  {
   "cell_type": "code",
   "execution_count": null,
   "metadata": {},
   "outputs": [],
   "source": [
    "plot_data.head()"
   ]
  },
  {
   "cell_type": "code",
   "execution_count": null,
   "metadata": {},
   "outputs": [],
   "source": [
    "sns.set_theme(style=\"whitegrid\")\n",
    "\n",
    "### Matplotlib + seaborn\n",
    "#f, (ax) = plt.subplots(1, 1, figsize=(13, 4))\n",
    "f, (ax1, ax2) = plt.subplots(1, 2, figsize=(9, 3))\n",
    "\n",
    "\n",
    "\n",
    "# Draw a nested barplot by species and sex\n",
    "# - Plot title\n",
    "# - Axis title\n",
    "# - Axis ticks\n",
    "g = sns.histplot(\n",
    "    data=plot_data,\n",
    "    x=\"visible_points\",\n",
    "    edgecolor=\".3\",\n",
    "    linewidth=.5,\n",
    "    ax=ax1,\n",
    ")\n",
    "ax1.set_title(\"Time when projected point is visible (s)\")\n",
    "\n",
    "g = sns.histplot(\n",
    "    data=plot_data,\n",
    "    x=\"episode_duration\",\n",
    "    edgecolor=\".3\",\n",
    "    linewidth=.5,\n",
    "    ax=ax2,\n",
    ")\n",
    "ax2.set_title(\"Episode duration (s)\")\n",
    "\n",
    "\n",
    "f.tight_layout()\n",
    "#f.savefig(\"plot.png\",dpi=(100), bbox_inches='tight')"
   ]
  },
  {
   "cell_type": "code",
   "execution_count": null,
   "metadata": {},
   "outputs": [],
   "source": [
    "print(plot_data[\"gripper_closed_times\"].value_counts())"
   ]
  },
  {
   "cell_type": "code",
   "execution_count": null,
   "metadata": {},
   "outputs": [],
   "source": [
    "print((plot_data[\"visible_points\"] / plot_data[\"episode_duration\"] < 0.5).value_counts())"
   ]
  },
  {
   "cell_type": "code",
   "execution_count": null,
   "metadata": {},
   "outputs": [],
   "source": [
    "### Matplotlib + seaborn\n",
    "#f, (ax) = plt.subplots(1, 1, figsize=(13, 4))\n",
    "f, (ax1, ax2) = plt.subplots(1, 2, figsize=(9, 3))\n",
    "\n",
    "sns.set_theme(style=\"whitegrid\")\n",
    "\n",
    "# Draw a nested barplot by species and sex\n",
    "# - Plot title\n",
    "# - Axis title\n",
    "# - Axis ticks\n",
    "plot_data[\"visible_fraction\"] = plot_data[\"visible_points\"] / plot_data[\"episode_duration\"]\n",
    "\n",
    "g = sns.histplot(\n",
    "    data=plot_data,\n",
    "    x=\"visible_fraction\",\n",
    "    edgecolor=\".3\",\n",
    "    linewidth=.5,\n",
    "    ax=ax1,\n",
    ")\n",
    "ax1.set_title(\"Time projection visible / episode duration\")\n",
    "\n",
    "g = sns.histplot(\n",
    "    data=plot_data,\n",
    "    x=\"gripper_duration\",\n",
    "    edgecolor=\".3\",\n",
    "    linewidth=.5,\n",
    "    ax=ax2,\n",
    ")\n",
    "ax2.set_title(\"Total time when gripper is closed (s)\")\n",
    "ax2.set_xlim(left=0)\n",
    "\n",
    "f.tight_layout()\n",
    "#f.savefig(\"plot.png\",dpi=(100), bbox_inches='tight')"
   ]
  },
  {
   "cell_type": "code",
   "execution_count": null,
   "metadata": {},
   "outputs": [],
   "source": []
  }
 ],
 "metadata": {
  "kernelspec": {
   "display_name": "Python 3 (ipykernel)",
   "language": "python",
   "name": "python3"
  },
  "language_info": {
   "codemirror_mode": {
    "name": "ipython",
    "version": 3
   },
   "file_extension": ".py",
   "mimetype": "text/x-python",
   "name": "python",
   "nbconvert_exporter": "python",
   "pygments_lexer": "ipython3",
   "version": "3.11.9"
  }
 },
 "nbformat": 4,
 "nbformat_minor": 4
}

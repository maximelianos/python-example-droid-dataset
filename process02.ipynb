{
 "cells": [
  {
   "cell_type": "code",
   "execution_count": null,
   "metadata": {},
   "outputs": [],
   "source": [
    "import json\n",
    "from pathlib import Path\n",
    "import os\n",
    "\n",
    "import pandas as pd\n",
    "import matplotlib.pyplot as plt\n",
    "import seaborn as sns"
   ]
  },
  {
   "cell_type": "code",
   "execution_count": null,
   "metadata": {},
   "outputs": [],
   "source": [
    "code_dir = Path.home() / \"work/brox/python-example-droid-dataset\""
   ]
  },
  {
   "cell_type": "code",
   "execution_count": null,
   "metadata": {},
   "outputs": [],
   "source": [
    "complete_data = pd.read_json(code_dir / \"data/complete_log_0807.json\")\n",
    "# MV must convert to seconds\n",
    "complete_data[\"visible_points\"] /= 14\n",
    "complete_data[\"gripper_duration\"] /= 14\n",
    "complete_data[\"episode_duration\"] /= 14\n",
    "complete_data[\"visible_fraction\"] = complete_data[\"visible_points\"] / complete_data[\"episode_duration\"]\n",
    "complete_data = complete_data.drop(columns=[\"path\"])"
   ]
  },
  {
   "cell_type": "code",
   "execution_count": null,
   "metadata": {},
   "outputs": [],
   "source": [
    "complete_data.head()"
   ]
  },
  {
   "cell_type": "code",
   "execution_count": null,
   "metadata": {},
   "outputs": [],
   "source": [
    "### Matplotlib + seaborn\n",
    "sns.set_theme(style=\"whitegrid\")\n",
    "\n",
    "# create figure with subplots\n",
    "f, (ax1, ax2) = plt.subplots(1, 2, figsize=(6, 3))\n",
    "\n",
    "# - Axis title\n",
    "# - Axis ticks\n",
    "\n",
    "# Draw plot\n",
    "g = sns.histplot(\n",
    "    data=complete_data,\n",
    "    x=\"visible_fraction\",\n",
    "    edgecolor=\".3\",\n",
    "    linewidth=.5,\n",
    "    ax=ax1,\n",
    ")\n",
    "\n",
    "# Subplot title\n",
    "ax1.set_title(\"Projection visibility\")\n",
    "\n",
    "# Draw plot\n",
    "g = sns.histplot(\n",
    "    data=complete_data,\n",
    "    x=\"episode_duration\",\n",
    "    edgecolor=\".3\",\n",
    "    linewidth=.5,\n",
    "    ax=ax2,\n",
    ")\n",
    "\n",
    "# Subplot title\n",
    "ax2.set_title(\"Episode duration (s)\")\n",
    "\n",
    "f.tight_layout()\n",
    "# save to file\n",
    "#f.savefig(\"plot.png\", dpi=(100), bbox_inches='tight')"
   ]
  },
  {
   "cell_type": "code",
   "execution_count": null,
   "metadata": {},
   "outputs": [],
   "source": [
    "print(complete_data[\"gripper_closed_times\"].value_counts())"
   ]
  },
  {
   "cell_type": "code",
   "execution_count": null,
   "metadata": {},
   "outputs": [],
   "source": [
    "print((complete_data[\"visible_fraction\"] > 0.5).value_counts())"
   ]
  }
 ],
 "metadata": {
  "kernelspec": {
   "display_name": "Python 3 (ipykernel)",
   "language": "python",
   "name": "python3"
  },
  "language_info": {
   "codemirror_mode": {
    "name": "ipython",
    "version": 3
   },
   "file_extension": ".py",
   "mimetype": "text/x-python",
   "name": "python",
   "nbconvert_exporter": "python",
   "pygments_lexer": "ipython3",
   "version": "3.11.9"
  }
 },
 "nbformat": 4,
 "nbformat_minor": 4
}

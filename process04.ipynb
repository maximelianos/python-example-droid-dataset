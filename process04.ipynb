{
 "cells": [
  {
   "cell_type": "code",
   "execution_count": 1,
   "id": "3e055150-9960-4030-a27b-4de9c315ddee",
   "metadata": {},
   "outputs": [
    {
     "name": "stderr",
     "output_type": "stream",
     "text": [
      "/home/iternal/miniconda3/envs/rerun/lib/python3.11/site-packages/torchvision/io/image.py:13: UserWarning: Failed to load image Python extension: '/home/iternal/miniconda3/envs/rerun/lib/python3.11/site-packages/torchvision/image.so: undefined symbol: _ZN3c1017RegisterOperatorsD1Ev'If you don't plan on using image functionality from `torchvision.io`, you can ignore this warning. Otherwise, there might be something wrong with your environment. Did you have `libjpeg` or `libpng` installed before building `torchvision` from source?\n",
      "  warn(\n"
     ]
    }
   ],
   "source": [
    "import numpy as np\n",
    "from skimage import io\n",
    "from skimage.transform import rescale, resize\n",
    "\n",
    "import torch\n",
    "from transformers import Dinov2Backbone\n",
    "\n",
    "from torchvision.models import resnet18"
   ]
  },
  {
   "cell_type": "code",
   "execution_count": 2,
   "id": "c47c76d1-b32c-40de-8c04-fc781d15976b",
   "metadata": {},
   "outputs": [
    {
     "name": "stderr",
     "output_type": "stream",
     "text": [
      "/home/iternal/miniconda3/envs/rerun/lib/python3.11/site-packages/huggingface_hub/file_download.py:1132: FutureWarning: `resume_download` is deprecated and will be removed in version 1.0.0. Downloads always resume when possible. If you want to force a new download, use `force_download=True`.\n",
      "  warnings.warn(\n"
     ]
    },
    {
     "name": "stdout",
     "output_type": "stream",
     "text": [
      "<class 'numpy.ndarray'> float64 (720, 1280) 0.0 273.31300737432895\n",
      "<class 'torch.Tensor'> torch.float64 torch.Size([1, 3, 224, 224]) tensor(0.0003, dtype=torch.float64) tensor(0.9991, dtype=torch.float64)\n"
     ]
    },
    {
     "name": "stderr",
     "output_type": "stream",
     "text": [
      "2024-07-09 17:13:34.338365: I tensorflow/core/util/port.cc:113] oneDNN custom operations are on. You may see slightly different numerical results due to floating-point round-off errors from different computation orders. To turn them off, set the environment variable `TF_ENABLE_ONEDNN_OPTS=0`.\n",
      "2024-07-09 17:13:34.339596: I external/local_tsl/tsl/cuda/cudart_stub.cc:32] Could not find cuda drivers on your machine, GPU will not be used.\n",
      "2024-07-09 17:13:34.343903: I external/local_tsl/tsl/cuda/cudart_stub.cc:32] Could not find cuda drivers on your machine, GPU will not be used.\n",
      "2024-07-09 17:13:34.351092: E external/local_xla/xla/stream_executor/cuda/cuda_fft.cc:479] Unable to register cuFFT factory: Attempting to register factory for plugin cuFFT when one has already been registered\n",
      "2024-07-09 17:13:34.365113: E external/local_xla/xla/stream_executor/cuda/cuda_dnn.cc:10575] Unable to register cuDNN factory: Attempting to register factory for plugin cuDNN when one has already been registered\n",
      "2024-07-09 17:13:34.365146: E external/local_xla/xla/stream_executor/cuda/cuda_blas.cc:1442] Unable to register cuBLAS factory: Attempting to register factory for plugin cuBLAS when one has already been registered\n",
      "2024-07-09 17:13:34.374314: I tensorflow/core/platform/cpu_feature_guard.cc:210] This TensorFlow binary is optimized to use available CPU instructions in performance-critical operations.\n",
      "To enable the following instructions: AVX2 AVX512F AVX512_VNNI FMA, in other operations, rebuild TensorFlow with the appropriate compiler flags.\n",
      "2024-07-09 17:13:35.021202: W tensorflow/compiler/tf2tensorrt/utils/py_utils.cc:38] TF-TRT Warning: Could not find TensorRT\n"
     ]
    },
    {
     "name": "stdout",
     "output_type": "stream",
     "text": [
      "<class 'torch.Tensor'> torch.float32 torch.Size([1, 768, 16, 16]) tensor(-15.1961) tensor(25.4411)\n",
      "<class 'torch.Tensor'> torch.float32 torch.Size([1, 768, 16, 16]) tensor(-15.6322) tensor(22.3742)\n"
     ]
    }
   ],
   "source": [
    "# compute difference between crops\n",
    "\n",
    "\n",
    "\n",
    "def main():\n",
    "    # model_ = torch.load(\"weights/dinov2_s_cow_front_face_fine_tuned_model.pth\")\n",
    "    model = Dinov2Backbone.from_pretrained(\"facebook/dinov2-base\")\n",
    "\n",
    "    # pixel_values = torch.randn(1, 3, 224, 224)\n",
    "    #\n",
    "    # outputs = model(pixel_values)\n",
    "    #\n",
    "    # for feature_map in outputs.feature_maps:\n",
    "    #     print(feature_map.shape)\n",
    "\n",
    "    imginfo = lambda img: print(type(img), img.dtype, img.shape, img.min(), img.max())\n",
    "\n",
    "    first_image = io.imread(\"first_image.jpg\")\n",
    "    max_image = io.imread(\"max_image.jpg\")\n",
    "\n",
    "    diff = first_image - max_image\n",
    "    diff = np.sum(diff ** 2, axis=2) ** 0.5 * 10\n",
    "    imginfo(diff)\n",
    "\n",
    "    io.imsave(\"result.jpg\", diff.astype(np.uint8))\n",
    "\n",
    "    def to_batch(image):\n",
    "        downscaled = resize(image, (224, 224))\n",
    "        batch = torch.from_numpy(downscaled)[None, :, :, :]  # [h, w, c] -> [1, h, w, c]\n",
    "        batch = batch.permute(0, 3, 1, 2)  # [1, h, w, c] -> [1, c, h, w]\n",
    "        return batch\n",
    "\n",
    "    def crop(image):\n",
    "        \"\"\"\n",
    "        :param image: [h, w, c]\n",
    "        \"\"\"\n",
    "        x, y = 900, 240\n",
    "        cropw = 200\n",
    "        return image[y-cropw:y+cropw, x-cropw:x+cropw]\n",
    "\n",
    "    io.imsave(\"result_crop_a.jpg\", crop(first_image).astype(np.uint8))\n",
    "    io.imsave(\"result_crop_b.jpg\", crop(max_image).astype(np.uint8))\n",
    "\n",
    "    batch = to_batch(crop(first_image))\n",
    "    imginfo(batch)\n",
    "    dino1 = model(batch).feature_maps[0].detach()\n",
    "\n",
    "    dino2 = model(to_batch(crop(max_image))).feature_maps[0].detach()\n",
    "\n",
    "\n",
    "    imginfo(dino1)\n",
    "    imginfo(dino2)\n",
    "\n",
    "    diff = dino1 - dino2\n",
    "    diff = (diff[0, :, :, :] ** 2).sum(axis=0)\n",
    "    diff = diff.numpy()\n",
    "\n",
    "    def scale(diff_image: np.array):\n",
    "        low, high = np.quantile(diff, 0.1), np.quantile(diff, 0.9)\n",
    "        return np.clip(diff_image / high * 255, 0, 255)\n",
    "\n",
    "    diff = scale(diff)\n",
    "    io.imsave(\"result.jpg\", resize(diff, (400, 400)).astype(np.uint8))\n",
    "\n",
    "main()"
   ]
  },
  {
   "cell_type": "code",
   "execution_count": 2,
   "id": "864b30e5-64f1-4401-8e37-2a21dbc2e6a4",
   "metadata": {},
   "outputs": [
    {
     "name": "stderr",
     "output_type": "stream",
     "text": [
      "/home/iternal/miniconda3/envs/rerun/lib/python3.11/site-packages/torchvision/models/_utils.py:208: UserWarning: The parameter 'pretrained' is deprecated since 0.13 and may be removed in the future, please use 'weights' instead.\n",
      "  warnings.warn(\n",
      "/home/iternal/miniconda3/envs/rerun/lib/python3.11/site-packages/torchvision/models/_utils.py:223: UserWarning: Arguments other than a weight enum or `None` for 'weights' are deprecated since 0.13 and may be removed in the future. The current behavior is equivalent to passing `weights=ResNet18_Weights.IMAGENET1K_V1`. You can also use `weights=ResNet18_Weights.DEFAULT` to get the most up-to-date weights.\n",
      "  warnings.warn(msg)\n"
     ]
    }
   ],
   "source": [
    "backbone = resnet18(pretrained=True)"
   ]
  },
  {
   "cell_type": "code",
   "execution_count": 13,
   "id": "e988d79d-b37e-4958-9451-9ebd29aefbb9",
   "metadata": {},
   "outputs": [],
   "source": [
    "imginfo = lambda img: print(type(img), img.dtype, img.shape, img.min(), img.max())\n",
    "\n",
    "first_image = io.imread(\"first_image.jpg\")\n",
    "max_image = io.imread(\"max_image.jpg\")\n",
    "\n",
    "def to_batch(image):\n",
    "    downscaled = resize(image, (224, 224))\n",
    "    batch = torch.from_numpy(downscaled)[None, :, :, :].to(torch.float32) / 255  # [h, w, c] -> [1, h, w, c]\n",
    "    batch = batch.permute(0, 3, 1, 2)  # [1, h, w, c] -> [1, c, h, w]\n",
    "    return batch\n",
    "\n",
    "def crop(image):\n",
    "    \"\"\"\n",
    "    :param image: [h, w, c]\n",
    "    \"\"\"\n",
    "    x, y = 830, 335\n",
    "    cropw = 200\n",
    "    return image[y-cropw:y+cropw, x-cropw:x+cropw]\n",
    "\n",
    "io.imsave(\"result_crop_a.jpg\", crop(first_image).astype(np.uint8))\n",
    "io.imsave(\"result_crop_b.jpg\", crop(max_image).astype(np.uint8))"
   ]
  },
  {
   "cell_type": "code",
   "execution_count": 14,
   "id": "fc9621fb-8b42-48a0-9c04-8d2a226dfe92",
   "metadata": {},
   "outputs": [
    {
     "name": "stdout",
     "output_type": "stream",
     "text": [
      "<class 'torch.Tensor'> torch.float32 torch.Size([1, 3, 224, 224]) tensor(0.) tensor(0.0039)\n"
     ]
    }
   ],
   "source": [
    "batch = to_batch(crop(first_image))\n",
    "imginfo(batch)"
   ]
  },
  {
   "cell_type": "code",
   "execution_count": 15,
   "id": "226bafa0-8b9d-4e3b-ba8b-0bc1fb4717a6",
   "metadata": {},
   "outputs": [
    {
     "data": {
      "text/plain": [
       "Sequential(\n",
       "  (0): Conv2d(3, 64, kernel_size=(7, 7), stride=(2, 2), padding=(3, 3), bias=False)\n",
       "  (1): BatchNorm2d(64, eps=1e-05, momentum=0.1, affine=True, track_running_stats=True)\n",
       "  (2): ReLU(inplace=True)\n",
       "  (3): MaxPool2d(kernel_size=3, stride=2, padding=1, dilation=1, ceil_mode=False)\n",
       "  (4): Sequential(\n",
       "    (0): BasicBlock(\n",
       "      (conv1): Conv2d(64, 64, kernel_size=(3, 3), stride=(1, 1), padding=(1, 1), bias=False)\n",
       "      (bn1): BatchNorm2d(64, eps=1e-05, momentum=0.1, affine=True, track_running_stats=True)\n",
       "      (relu): ReLU(inplace=True)\n",
       "      (conv2): Conv2d(64, 64, kernel_size=(3, 3), stride=(1, 1), padding=(1, 1), bias=False)\n",
       "      (bn2): BatchNorm2d(64, eps=1e-05, momentum=0.1, affine=True, track_running_stats=True)\n",
       "    )\n",
       "    (1): BasicBlock(\n",
       "      (conv1): Conv2d(64, 64, kernel_size=(3, 3), stride=(1, 1), padding=(1, 1), bias=False)\n",
       "      (bn1): BatchNorm2d(64, eps=1e-05, momentum=0.1, affine=True, track_running_stats=True)\n",
       "      (relu): ReLU(inplace=True)\n",
       "      (conv2): Conv2d(64, 64, kernel_size=(3, 3), stride=(1, 1), padding=(1, 1), bias=False)\n",
       "      (bn2): BatchNorm2d(64, eps=1e-05, momentum=0.1, affine=True, track_running_stats=True)\n",
       "    )\n",
       "  )\n",
       "  (5): Sequential(\n",
       "    (0): BasicBlock(\n",
       "      (conv1): Conv2d(64, 128, kernel_size=(3, 3), stride=(2, 2), padding=(1, 1), bias=False)\n",
       "      (bn1): BatchNorm2d(128, eps=1e-05, momentum=0.1, affine=True, track_running_stats=True)\n",
       "      (relu): ReLU(inplace=True)\n",
       "      (conv2): Conv2d(128, 128, kernel_size=(3, 3), stride=(1, 1), padding=(1, 1), bias=False)\n",
       "      (bn2): BatchNorm2d(128, eps=1e-05, momentum=0.1, affine=True, track_running_stats=True)\n",
       "      (downsample): Sequential(\n",
       "        (0): Conv2d(64, 128, kernel_size=(1, 1), stride=(2, 2), bias=False)\n",
       "        (1): BatchNorm2d(128, eps=1e-05, momentum=0.1, affine=True, track_running_stats=True)\n",
       "      )\n",
       "    )\n",
       "    (1): BasicBlock(\n",
       "      (conv1): Conv2d(128, 128, kernel_size=(3, 3), stride=(1, 1), padding=(1, 1), bias=False)\n",
       "      (bn1): BatchNorm2d(128, eps=1e-05, momentum=0.1, affine=True, track_running_stats=True)\n",
       "      (relu): ReLU(inplace=True)\n",
       "      (conv2): Conv2d(128, 128, kernel_size=(3, 3), stride=(1, 1), padding=(1, 1), bias=False)\n",
       "      (bn2): BatchNorm2d(128, eps=1e-05, momentum=0.1, affine=True, track_running_stats=True)\n",
       "    )\n",
       "  )\n",
       ")"
      ]
     },
     "execution_count": 15,
     "metadata": {},
     "output_type": "execute_result"
    }
   ],
   "source": [
    "children = list(backbone.children())\n",
    "newmodel = torch.nn.Sequential(*children[0:6])\n",
    "newmodel"
   ]
  },
  {
   "cell_type": "code",
   "execution_count": 16,
   "id": "e02a17c4-30d3-4520-99a0-3bbeeb27d8db",
   "metadata": {},
   "outputs": [],
   "source": [
    "res = newmodel(batch).detach()"
   ]
  },
  {
   "cell_type": "code",
   "execution_count": 17,
   "id": "a28be7cc-8a9d-42d5-b063-5131342a5803",
   "metadata": {},
   "outputs": [
    {
     "name": "stdout",
     "output_type": "stream",
     "text": [
      "<class 'torch.Tensor'> torch.float32 torch.Size([1, 128, 28, 28]) tensor(0.) tensor(4.8947)\n"
     ]
    }
   ],
   "source": [
    "imginfo(res)"
   ]
  },
  {
   "cell_type": "code",
   "execution_count": 18,
   "id": "cab80911-51b8-4308-8b9e-65c5efe10968",
   "metadata": {},
   "outputs": [
    {
     "name": "stdout",
     "output_type": "stream",
     "text": [
      "<class 'torch.Tensor'> torch.float32 torch.Size([1, 3, 224, 224]) tensor(0.) tensor(0.0039)\n",
      "<class 'torch.Tensor'> torch.float32 torch.Size([1, 128, 28, 28]) tensor(0.) tensor(4.8947)\n",
      "<class 'torch.Tensor'> torch.float32 torch.Size([1, 128, 28, 28]) tensor(0.) tensor(6.1370)\n"
     ]
    }
   ],
   "source": [
    "batch = to_batch(crop(first_image))\n",
    "imginfo(batch)\n",
    "dino1 = newmodel(batch).detach()\n",
    "dino2 = newmodel(to_batch(crop(max_image))).detach()\n",
    "\n",
    "\n",
    "imginfo(dino1)\n",
    "imginfo(dino2)\n",
    "\n",
    "diff = dino1 - dino2\n",
    "diff = (diff[0, :, :, :] ** 2).sum(axis=0)\n",
    "diff = diff.numpy()\n",
    "\n",
    "def scale(diff_image: np.array):\n",
    "    low, high = np.quantile(diff, 0.1), np.quantile(diff, 0.9)\n",
    "    return np.clip(diff_image / high * 255, 0, 255)\n",
    "\n",
    "diff = scale(diff)\n",
    "io.imsave(\"result.jpg\", resize(diff, (400, 400)).astype(np.uint8))"
   ]
  },
  {
   "cell_type": "code",
   "execution_count": null,
   "id": "d01c9e36-cba0-45cd-96cb-99f5acfca49a",
   "metadata": {},
   "outputs": [],
   "source": []
  }
 ],
 "metadata": {
  "kernelspec": {
   "display_name": "Python 3 (ipykernel)",
   "language": "python",
   "name": "python3"
  },
  "language_info": {
   "codemirror_mode": {
    "name": "ipython",
    "version": 3
   },
   "file_extension": ".py",
   "mimetype": "text/x-python",
   "name": "python",
   "nbconvert_exporter": "python",
   "pygments_lexer": "ipython3",
   "version": "3.11.9"
  }
 },
 "nbformat": 4,
 "nbformat_minor": 5
}

{
 "cells": [
  {
   "cell_type": "code",
   "execution_count": 31,
   "id": "ed94828f",
   "metadata": {},
   "outputs": [],
   "source": [
    "from pathlib import Path\n",
    "import numpy as np\n",
    "from skimage import io\n",
    "from skimage.transform import rescale, resize\n",
    "import torch\n",
    "from transformers import Dinov2Backbone\n",
    "from torchvision.models import resnet18\n",
    "from scipy.ndimage import gaussian_filter\n",
    "from scipy import ndimage"
   ]
  },
  {
   "cell_type": "code",
   "execution_count": 2,
   "id": "923d55d9",
   "metadata": {},
   "outputs": [
    {
     "name": "stderr",
     "output_type": "stream",
     "text": [
      "/home/iternal/miniconda3/envs/rerun/lib/python3.11/site-packages/torchvision/models/_utils.py:208: UserWarning: The parameter 'pretrained' is deprecated since 0.13 and may be removed in the future, please use 'weights' instead.\n",
      "  warnings.warn(\n",
      "/home/iternal/miniconda3/envs/rerun/lib/python3.11/site-packages/torchvision/models/_utils.py:223: UserWarning: Arguments other than a weight enum or `None` for 'weights' are deprecated since 0.13 and may be removed in the future. The current behavior is equivalent to passing `weights=ResNet18_Weights.IMAGENET1K_V1`. You can also use `weights=ResNet18_Weights.DEFAULT` to get the most up-to-date weights.\n",
      "  warnings.warn(msg)\n"
     ]
    }
   ],
   "source": [
    "backbone = resnet18(pretrained=True)"
   ]
  },
  {
   "cell_type": "code",
   "execution_count": 3,
   "id": "687cc7fa",
   "metadata": {},
   "outputs": [
    {
     "data": {
      "text/plain": [
       "Sequential(\n",
       "  (0): Conv2d(3, 64, kernel_size=(7, 7), stride=(2, 2), padding=(3, 3), bias=False)\n",
       "  (1): BatchNorm2d(64, eps=1e-05, momentum=0.1, affine=True, track_running_stats=True)\n",
       "  (2): ReLU(inplace=True)\n",
       "  (3): MaxPool2d(kernel_size=3, stride=2, padding=1, dilation=1, ceil_mode=False)\n",
       "  (4): Sequential(\n",
       "    (0): BasicBlock(\n",
       "      (conv1): Conv2d(64, 64, kernel_size=(3, 3), stride=(1, 1), padding=(1, 1), bias=False)\n",
       "      (bn1): BatchNorm2d(64, eps=1e-05, momentum=0.1, affine=True, track_running_stats=True)\n",
       "      (relu): ReLU(inplace=True)\n",
       "      (conv2): Conv2d(64, 64, kernel_size=(3, 3), stride=(1, 1), padding=(1, 1), bias=False)\n",
       "      (bn2): BatchNorm2d(64, eps=1e-05, momentum=0.1, affine=True, track_running_stats=True)\n",
       "    )\n",
       "    (1): BasicBlock(\n",
       "      (conv1): Conv2d(64, 64, kernel_size=(3, 3), stride=(1, 1), padding=(1, 1), bias=False)\n",
       "      (bn1): BatchNorm2d(64, eps=1e-05, momentum=0.1, affine=True, track_running_stats=True)\n",
       "      (relu): ReLU(inplace=True)\n",
       "      (conv2): Conv2d(64, 64, kernel_size=(3, 3), stride=(1, 1), padding=(1, 1), bias=False)\n",
       "      (bn2): BatchNorm2d(64, eps=1e-05, momentum=0.1, affine=True, track_running_stats=True)\n",
       "    )\n",
       "  )\n",
       "  (5): Sequential(\n",
       "    (0): BasicBlock(\n",
       "      (conv1): Conv2d(64, 128, kernel_size=(3, 3), stride=(2, 2), padding=(1, 1), bias=False)\n",
       "      (bn1): BatchNorm2d(128, eps=1e-05, momentum=0.1, affine=True, track_running_stats=True)\n",
       "      (relu): ReLU(inplace=True)\n",
       "      (conv2): Conv2d(128, 128, kernel_size=(3, 3), stride=(1, 1), padding=(1, 1), bias=False)\n",
       "      (bn2): BatchNorm2d(128, eps=1e-05, momentum=0.1, affine=True, track_running_stats=True)\n",
       "      (downsample): Sequential(\n",
       "        (0): Conv2d(64, 128, kernel_size=(1, 1), stride=(2, 2), bias=False)\n",
       "        (1): BatchNorm2d(128, eps=1e-05, momentum=0.1, affine=True, track_running_stats=True)\n",
       "      )\n",
       "    )\n",
       "    (1): BasicBlock(\n",
       "      (conv1): Conv2d(128, 128, kernel_size=(3, 3), stride=(1, 1), padding=(1, 1), bias=False)\n",
       "      (bn1): BatchNorm2d(128, eps=1e-05, momentum=0.1, affine=True, track_running_stats=True)\n",
       "      (relu): ReLU(inplace=True)\n",
       "      (conv2): Conv2d(128, 128, kernel_size=(3, 3), stride=(1, 1), padding=(1, 1), bias=False)\n",
       "      (bn2): BatchNorm2d(128, eps=1e-05, momentum=0.1, affine=True, track_running_stats=True)\n",
       "    )\n",
       "  )\n",
       ")"
      ]
     },
     "execution_count": 3,
     "metadata": {},
     "output_type": "execute_result"
    }
   ],
   "source": [
    "children = list(backbone.children())\n",
    "newmodel = torch.nn.Sequential(*children[0:6])\n",
    "newmodel"
   ]
  },
  {
   "cell_type": "code",
   "execution_count": 4,
   "id": "d0e0c522",
   "metadata": {},
   "outputs": [
    {
     "name": "stdout",
     "output_type": "stream",
     "text": [
      "data/last_0072.jpg\n",
      "<class 'torch.Tensor'> torch.float32 torch.Size([1, 3, 224, 224]) tensor(0.) tensor(0.0039)\n",
      "<class 'torch.Tensor'> torch.float32 torch.Size([1, 128, 28, 28]) tensor(0.) tensor(4.4553)\n",
      "<class 'torch.Tensor'> torch.float32 torch.Size([1, 128, 28, 28]) tensor(0.) tensor(4.1969)\n",
      "<class 'numpy.ndarray'> uint8 (720, 1280, 3) 0 255\n"
     ]
    }
   ],
   "source": [
    "# === Load last image before max\n",
    "data_path = Path(\"data\")\n",
    "file_list = sorted(data_path.glob(\"last_*jpg\"))\n",
    "print(file_list[-1])\n",
    "last_image = io.imread(file_list[-1])\n",
    "\n",
    "imginfo = lambda img: print(type(img), img.dtype, img.shape, img.min(), img.max())\n",
    "\n",
    "first_image = io.imread(\"data/first_image.jpg\")\n",
    "max_image = io.imread(\"data/max_image.jpg\")\n",
    "\n",
    "# === load first touch coors\n",
    "import json\n",
    "with open(\"data/single_log.json\") as f:\n",
    "    episode_log = json.load(f)\n",
    "first_x, first_y, first_z = map(int, episode_log[\"first_touch\"])\n",
    "cropw = 200\n",
    "\n",
    "def to_batch(image):\n",
    "    downscaled = resize(image, (224, 224))\n",
    "    batch = torch.from_numpy(downscaled)[None, :, :, :].to(torch.float32) / 255  # [h, w, c] -> [1, h, w, c]\n",
    "    batch = batch.permute(0, 3, 1, 2)  # [1, h, w, c] -> [1, c, h, w]\n",
    "    return batch\n",
    "\n",
    "def crop(image):\n",
    "    \"\"\"\n",
    "    :param image: [h, w, c]\n",
    "    \"\"\"\n",
    "    return image[first_y-cropw:first_y+cropw, first_x-cropw:first_x+cropw]\n",
    "\n",
    "io.imsave(\"data/result_crop_a.jpg\", crop(first_image).astype(np.uint8))\n",
    "io.imsave(\"data/result_crop_b.jpg\", crop(max_image).astype(np.uint8))\n",
    "io.imsave(\"data/result_crop_last.jpg\", crop(last_image).astype(np.uint8))\n",
    "\n",
    "# === Run model on crops\n",
    "batch = to_batch(crop(first_image))\n",
    "imginfo(batch)\n",
    "dino1 = newmodel(batch).detach()\n",
    "dino2 = newmodel(to_batch(crop(max_image))).detach()\n",
    "dino_last = newmodel(to_batch(crop(last_image))).detach()\n",
    "\n",
    "imginfo(dino1)\n",
    "imginfo(dino2)\n",
    "\n",
    "def scale(diff_image: np.array):\n",
    "    low, high = np.quantile(diff_image, 0.1), np.quantile(diff_image, 0.99)\n",
    "    return np.clip(diff_image / high * 255, 0, 255)\n",
    "\n",
    "diff = dino1 - dino2\n",
    "diff = (diff[0, :, :, :] ** 2).sum(axis=0).numpy()\n",
    "\n",
    "diff_last_max = dino2 - dino_last\n",
    "diff_last_max = (diff_last_max[0, :, :, :] ** 2).sum(axis=0).numpy()\n",
    "\n",
    "sub = diff - gaussian_filter(diff_last_max, sigma=2) * 2\n",
    "\n",
    "# sub = ndimage.median_filter(sub, size=2)\n",
    "crop_shape = crop(first_image).shape\n",
    "io.imsave(\"data/result_diff.jpg\", resize(scale(sub), crop_shape[:2]).astype(np.uint8))\n",
    "io.imsave(\"data/result_before_sub.jpg\", resize(scale(diff), crop_shape[:2]).astype(np.uint8))\n",
    "\n",
    "\n",
    "# === Simple difference\n",
    "imginfo(first_image)\n",
    "diff = crop(first_image.astype(np.float32)) - crop(max_image.astype(np.float32)) # careful, must be float!\n",
    "diff = np.sum(diff ** 2, axis=2)\n",
    "io.imsave(\"data/result_simple.jpg\", resize(scale(diff), crop_shape[:2]).astype(np.uint8))"
   ]
  },
  {
   "cell_type": "code",
   "execution_count": 5,
   "id": "1bd8bf3b-ff70-4a63-bccc-9c059c021081",
   "metadata": {},
   "outputs": [
    {
     "name": "stdout",
     "output_type": "stream",
     "text": [
      "<class 'numpy.ndarray'> float32 (400, 400) 0.0 255.0\n"
     ]
    }
   ],
   "source": [
    "imginfo(scale(diff))"
   ]
  },
  {
   "cell_type": "code",
   "execution_count": 7,
   "id": "d384d5e3",
   "metadata": {},
   "outputs": [],
   "source": [
    "canvas = np.copy(first_image)\n",
    "\n",
    "def crop_to_color(cr):\n",
    "    cr = resize(scale(cr), crop_shape[:2]).astype(np.uint8)\n",
    "    cr = np.tile(cr[:, :, None], (1, 1, 3))  # 1 channel to 3 channels\n",
    "    cr[:, :, 1:] = 0\n",
    "    return cr\n",
    "\n",
    "def add_crop(image, cr):\n",
    "    canvas = np.copy(image)\n",
    "    canvcrop = canvas[first_y-cropw:first_y+cropw, first_x-cropw:first_x+cropw]\n",
    "    canvas[first_y-cropw:first_y+cropw, first_x-cropw:first_x+cropw] = canvcrop * 0.4 + crop_to_color(cr) * 0.6 # use broadcasting\n",
    "    return canvas\n",
    "\n",
    "canvas = add_crop(first_image, diff)\n",
    "io.imsave(\"data/result_overlay.jpg\", scale(canvas).astype(np.uint8))"
   ]
  },
  {
   "cell_type": "code",
   "execution_count": 15,
   "id": "cee57226-d155-44a7-95e0-e772142967a8",
   "metadata": {},
   "outputs": [],
   "source": [
    "data_path = Path(\"data\")\n",
    "file_list = sorted(data_path.glob(\"before_*jpg\"))\n",
    "before_image = io.imread(file_list[-3])\n",
    "\n",
    "file_list = sorted(data_path.glob(\"after_*jpg\"))\n",
    "after_image = io.imread(file_list[3])\n",
    "\n",
    "grip_image = io.imread(\"data/grip_image.jpg\")"
   ]
  },
  {
   "cell_type": "code",
   "execution_count": 29,
   "id": "83f2c0bb-98b4-4750-89d4-4e333963fcfd",
   "metadata": {},
   "outputs": [],
   "source": [
    "# === Simple difference\n",
    "diff = crop(grip_image.astype(np.float32)) - crop(before_image.astype(np.float32)) # careful, must be float!\n",
    "diff = np.sum(diff ** 2, axis=2)\n",
    "diff[diff < 10000] = 0\n",
    "diff[diff > 10000] = 1\n",
    "\n",
    "diff_2 = crop(grip_image.astype(np.float32)) - crop(after_image.astype(np.float32)) # careful, must be float!\n",
    "diff_2 = np.sum(diff_2 ** 2, axis=2)\n",
    "\n",
    "#diff_2 = diff_2 - diff * 100\n",
    "io.imsave(\"data/result_0.jpg\", resize(scale(diff), crop_shape[:2]).astype(np.uint8))\n",
    "io.imsave(\"data/result_1.jpg\", resize(scale(diff_2), crop_shape[:2]).astype(np.uint8))\n"
   ]
  },
  {
   "cell_type": "code",
   "execution_count": 18,
   "id": "dbc4d2c7-d7fb-48b3-b774-fc8a2dfce26b",
   "metadata": {},
   "outputs": [],
   "source": [
    "io.imsave(\"data/a1.jpg\", crop(before_image).astype(np.uint8))\n",
    "io.imsave(\"data/a2.jpg\", crop(grip_image).astype(np.uint8))\n",
    "io.imsave(\"data/a3.jpg\", crop(after_image).astype(np.uint8))"
   ]
  },
  {
   "cell_type": "code",
   "execution_count": 34,
   "id": "f9eac630-5341-4dba-8bc7-79d895a11ac2",
   "metadata": {},
   "outputs": [
    {
     "data": {
      "text/plain": [
       "array([0.5, 0.5, 0.5, 0.4, 0.4, 0.8, 0.1, 0.8, 0.8, 0.9, 0.9])"
      ]
     },
     "execution_count": 34,
     "metadata": {},
     "output_type": "execute_result"
    }
   ],
   "source": [
    "arr = np.array([0.5, 0.1, 0.4, 0.9, 0.1, 0.0, 0.8, 0.1, 0.8, 0.9, 0.9])\n",
    "ndimage.median_filter(arr, size=4)"
   ]
  },
  {
   "cell_type": "code",
   "execution_count": null,
   "id": "053689c8-48e4-49bf-b4af-f9317c9097c5",
   "metadata": {},
   "outputs": [],
   "source": []
  }
 ],
 "metadata": {
  "kernelspec": {
   "display_name": "Python 3 (ipykernel)",
   "language": "python",
   "name": "python3"
  },
  "language_info": {
   "codemirror_mode": {
    "name": "ipython",
    "version": 3
   },
   "file_extension": ".py",
   "mimetype": "text/x-python",
   "name": "python",
   "nbconvert_exporter": "python",
   "pygments_lexer": "ipython3",
   "version": "3.11.9"
  }
 },
 "nbformat": 4,
 "nbformat_minor": 5
}

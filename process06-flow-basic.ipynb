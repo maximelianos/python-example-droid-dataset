{
 "cells": [
  {
   "cell_type": "code",
   "execution_count": 1,
   "id": "6f9a3b81-208f-4908-ad20-6e734d9c139a",
   "metadata": {},
   "outputs": [
    {
     "name": "stderr",
     "output_type": "stream",
     "text": [
      "/home/iter/miniconda3/envs/rerun/lib/python3.11/site-packages/torchvision/io/image.py:13: UserWarning: Failed to load image Python extension: '/home/iter/miniconda3/envs/rerun/lib/python3.11/site-packages/torchvision/image.so: undefined symbol: _ZN3c1017RegisterOperatorsD1Ev'If you don't plan on using image functionality from `torchvision.io`, you can ignore this warning. Otherwise, there might be something wrong with your environment. Did you have `libjpeg` or `libpng` installed before building `torchvision` from source?\n",
      "  warn(\n"
     ]
    }
   ],
   "source": [
    "# google: torchvision optical flow\n",
    "\n",
    "from pathlib import Path\n",
    "import numpy as np\n",
    "from skimage import io\n",
    "from skimage.transform import rescale, resize\n",
    "from scipy.ndimage import gaussian_filter\n",
    "from scipy import ndimage\n",
    "\n",
    "import torch\n",
    "import matplotlib.pyplot as plt\n",
    "import torchvision.transforms.functional as F\n",
    "import torchvision.transforms as T\n",
    "\n",
    "imginfo = lambda img: print(type(img), img.dtype, img.shape, img.min(), img.max())"
   ]
  },
  {
   "cell_type": "code",
   "execution_count": 2,
   "id": "beb25d73-7bd3-4026-ba0e-40ff2f1327af",
   "metadata": {},
   "outputs": [
    {
     "name": "stderr",
     "output_type": "stream",
     "text": [
      "/home/iter/miniconda3/envs/rerun/lib/python3.11/site-packages/torchvision/models/_utils.py:208: UserWarning: The parameter 'pretrained' is deprecated since 0.13 and may be removed in the future, please use 'weights' instead.\n",
      "  warnings.warn(\n",
      "/home/iter/miniconda3/envs/rerun/lib/python3.11/site-packages/torchvision/models/_utils.py:223: UserWarning: Arguments other than a weight enum or `None` for 'weights' are deprecated since 0.13 and may be removed in the future. The current behavior is equivalent to passing `weights=Raft_Large_Weights.C_T_SKHT_V2`. You can also use `weights=Raft_Large_Weights.DEFAULT` to get the most up-to-date weights.\n",
      "  warnings.warn(msg)\n"
     ]
    }
   ],
   "source": [
    "from torchvision.models.optical_flow import raft_large\n",
    "\n",
    "device = \"cpu\"\n",
    "model = raft_large(pretrained=True, progress=False).to(device)\n",
    "model = model.eval()"
   ]
  },
  {
   "cell_type": "code",
   "execution_count": 8,
   "id": "32c174a1-0832-4727-8ade-a3253d210bc7",
   "metadata": {},
   "outputs": [],
   "source": [
    "# === load first touch coors\n",
    "import json\n",
    "with open(\"data/single_log.json\") as f:\n",
    "    episode_log = json.load(f)\n",
    "first_x, first_y, first_z = map(int, episode_log[\"first_touch\"])\n",
    "cropw = 200\n",
    "\n",
    "def cut_crop(image):\n",
    "    \"\"\"\n",
    "    :param image: [h, w, c]\n",
    "    \"\"\"\n",
    "    return image[first_y-cropw:first_y+cropw, first_x-cropw:first_x+cropw]"
   ]
  },
  {
   "cell_type": "code",
   "execution_count": 9,
   "id": "5999ed79-6182-4832-85df-b543f62c974a",
   "metadata": {},
   "outputs": [
    {
     "name": "stdout",
     "output_type": "stream",
     "text": [
      "image list: 13\n"
     ]
    }
   ],
   "source": [
    "# === Load images\n",
    "file_list = sorted(Path(\"data/frames\").glob(\"center*jpg\"))\n",
    "print(\"image list:\", len(file_list))\n",
    "\n",
    "i1 = io.imread(file_list[2]).astype(np.float32) / 255 # [h, w, 3] float32 [0, 1]\n",
    "i2 = io.imread(\"data/frames/grip_image.jpg\").astype(np.float32) / 255\n",
    "\n",
    "i1 = io.imread(file_list[2]).astype(np.float32) / 255 # [h, w, 3] float32 [0, 1]\n",
    "#i2 = io.imread(\"data/frames/grip_image.jpg\").astype(np.float32) / 255\n",
    "i2 = io.imread(file_list[3]).astype(np.float32) / 255\n",
    "\n",
    "io.imsave(\"data/image_1.jpg\", (i1 * 255).astype(np.uint8))\n",
    "io.imsave(\"data/image_2.jpg\", (i2 * 255).astype(np.uint8))"
   ]
  },
  {
   "cell_type": "code",
   "execution_count": 13,
   "id": "77a5cda1-f124-40d3-8a1c-3772d32dc404",
   "metadata": {},
   "outputs": [
    {
     "name": "stdout",
     "output_type": "stream",
     "text": [
      "<class 'torch.Tensor'> torch.float32 torch.Size([1, 3, 720, 1280]) tensor(-1.) tensor(-0.9922)\n"
     ]
    }
   ],
   "source": [
    "# === prepare batch for RAFT\n",
    "def to_batch(image):\n",
    "    batch = torch.from_numpy(image)[None, :, :, :].to(torch.float32) / 255  # [h, w, c] -> [1, h, w, c]\n",
    "    batch = batch.permute(0, 3, 1, 2)  # [1, h, w, c] -> [1, c, h, w]\n",
    "    \n",
    "    transforms = T.Compose(\n",
    "        [\n",
    "            T.ConvertImageDtype(torch.float32),\n",
    "            T.Normalize(mean=0.5, std=0.5),  # map [0, 1] into [-1, 1]\n",
    "            #T.Resize(size=(520, 960)),\n",
    "        ]\n",
    "    )\n",
    "    batch = transforms(batch)\n",
    "    return batch\n",
    "\n",
    "img1_batch = to_batch(i2)\n",
    "img2_batch = to_batch(i1)\n",
    "imginfo(img1_batch)"
   ]
  },
  {
   "cell_type": "code",
   "execution_count": 14,
   "id": "c14afd61-a882-4e71-a7e3-1d4e621b6e97",
   "metadata": {},
   "outputs": [],
   "source": [
    "# === compute flow with RAFT\n",
    "from torchvision.utils import flow_to_image\n",
    "\n",
    "def compute_flow_picture(img1_batch, img2_batch):\n",
    "    with torch.no_grad():\n",
    "        list_of_flows = model(img1_batch.to(device), img2_batch.to(device))\n",
    "    print(f\"length = {len(list_of_flows)} = number of iterations of the model\")\n",
    "    predicted_flows = list_of_flows[-1].detach()\n",
    "\n",
    "    flow_imgs = flow_to_image(predicted_flows)\n",
    "    \n",
    "    # The images have been mapped into [-1, 1] but for plotting we want them in [0, 1]\n",
    "    img1_batch = [(img1 + 1) / 2 for img1 in img1_batch]\n",
    "    \n",
    "    grid = [[img1, flow_img] for (img1, flow_img) in zip(img1_batch, flow_imgs)]\n",
    "    \n",
    "    return grid[0][1]\n",
    "    "
   ]
  },
  {
   "cell_type": "code",
   "execution_count": 15,
   "id": "f1956d5a-372d-47d8-bb2a-e926ee80d0ba",
   "metadata": {},
   "outputs": [
    {
     "name": "stdout",
     "output_type": "stream",
     "text": [
      "length = 12 = number of iterations of the model\n"
     ]
    }
   ],
   "source": [
    "# === save image from RAFT\n",
    "flow = compute_flow_picture(img1_batch, img2_batch)\n",
    "\n",
    "def save_torch(path, tensor):\n",
    "    \"\"\"\n",
    "    tensor: [c, h, w] cuda float32 [0, 1]\n",
    "    \"\"\"\n",
    "    img = (tensor.to(\"cpu\").permute([1, 2, 0]).numpy() * 255).astype(np.uint8)\n",
    "    io.imsave(path, img)\n",
    "\n",
    "save_torch(\"data/raft_flow.jpg\", flow)"
   ]
  },
  {
   "cell_type": "markdown",
   "id": "76d4ec94-4e3b-4da1-9c2b-d75f3583650d",
   "metadata": {},
   "source": [
    "## Try segment the flow (example #0)"
   ]
  },
  {
   "cell_type": "code",
   "execution_count": null,
   "id": "d70e6bb1-2c6d-4585-8115-218f87ff0b7b",
   "metadata": {},
   "outputs": [],
   "source": [
    "# === try #2\n",
    "i1 = io.imread(file_list[2]).astype(np.float32) / 255 # [h, w, 3] float32 [0, 1]\n",
    "#i2 = io.imread(\"data/frames/grip_image.jpg\").astype(np.float32) / 255\n",
    "i2 = io.imread(file_list[3]).astype(np.float32) / 255\n",
    "img1_batch = to_batch(i2)\n",
    "img2_batch = to_batch(i1)\n",
    "flow = compute_flow_picture(img1_batch, img2_batch)\n",
    "save_torch(\"data/raft_flow_2.jpg\", flow)"
   ]
  },
  {
   "cell_type": "code",
   "execution_count": 11,
   "id": "8726d12e-bb8f-47df-ad21-a4a3bcd8758f",
   "metadata": {},
   "outputs": [],
   "source": [
    "# idea is to take the moving region closest to the center.\n",
    "# For that I first threshold the moving part,\n",
    "# then take histogram of distances from the center.\n",
    "def compute_flow(img1_batch, img2_batch):\n",
    "    with torch.no_grad():\n",
    "        list_of_flows = model(img1_batch.to(device), img2_batch.to(device))\n",
    "    print(f\"length = {len(list_of_flows)} = number of iterations of the model\")\n",
    "    predicted_flows = list_of_flows[-1].detach()\n",
    "\n",
    "    return predicted_flows"
   ]
  },
  {
   "cell_type": "code",
   "execution_count": 12,
   "id": "2889eb52-1f86-409d-83e0-2c6123fb4717",
   "metadata": {},
   "outputs": [
    {
     "name": "stdout",
     "output_type": "stream",
     "text": [
      "length = 12 = number of iterations of the model\n"
     ]
    }
   ],
   "source": [
    "flow = compute_flow(img1_batch, img2_batch)"
   ]
  },
  {
   "cell_type": "code",
   "execution_count": 13,
   "id": "5d103eb7-a2e5-47e3-9687-609e26dd081a",
   "metadata": {},
   "outputs": [
    {
     "name": "stdout",
     "output_type": "stream",
     "text": [
      "<class 'torch.Tensor'> torch.float32 torch.Size([1, 2, 720, 1280]) tensor(-12.4233) tensor(3.5777)\n"
     ]
    }
   ],
   "source": [
    "imginfo(flow) # (u, v) - horizontal, vertical"
   ]
  },
  {
   "cell_type": "code",
   "execution_count": 14,
   "id": "ff7f1389-10be-4976-ad11-9f740a063ad4",
   "metadata": {},
   "outputs": [
    {
     "name": "stdout",
     "output_type": "stream",
     "text": [
      "<class 'torch.Tensor'> torch.float32 torch.Size([1, 720, 1280]) tensor(2.5050e-05) tensor(12.4610)\n"
     ]
    }
   ],
   "source": [
    "# magnitude\n",
    "mag = (flow[:, 0, :, :] ** 2 + flow[:, 1, :, :] ** 2) ** 0.5\n",
    "imginfo(mag)"
   ]
  },
  {
   "cell_type": "code",
   "execution_count": 15,
   "id": "a4721c7e-3dc8-445b-a015-fa2ec96b8592",
   "metadata": {},
   "outputs": [
    {
     "name": "stdout",
     "output_type": "stream",
     "text": [
      "tensor([ 0.0323,  0.1536,  2.1189, 11.4040])\n",
      "tensor([ 9.9604, 11.6004, 11.8116, 12.0742])\n"
     ]
    }
   ],
   "source": [
    "# hint: quantile\n",
    "q = torch.tensor([0.5, 0.9, 0.95, 0.99])\n",
    "print(torch.quantile(mag, q)) # distribution from whole image\n",
    "print(torch.quantile(mag[mag > 1], q)) # distribtuion from moving region\n",
    "# conclusion: I dont' understand the unit of flow"
   ]
  },
  {
   "cell_type": "code",
   "execution_count": 16,
   "id": "3e107d6a-ea00-48dc-8962-73d45a8080d8",
   "metadata": {},
   "outputs": [
    {
     "name": "stdout",
     "output_type": "stream",
     "text": [
      "720 1280\n",
      "0.14130750868055555\n"
     ]
    }
   ],
   "source": [
    "# area of the moving region?\n",
    "_b, _c, h, w = flow.shape\n",
    "print(h, w)\n",
    "pixels = torch.sum(mag > 0.1).numpy()\n",
    "print(pixels / (h * w))"
   ]
  },
  {
   "cell_type": "code",
   "execution_count": 17,
   "id": "f68596f6-fee8-4103-bf40-09d3323371ab",
   "metadata": {},
   "outputs": [],
   "source": [
    "def save_mask(path, tensor):\n",
    "    \"\"\"\n",
    "    tensor: [h, w] cuda float32 [0, 1]\n",
    "    \"\"\"\n",
    "    img = (tensor.to(\"cpu\").numpy() * 255).astype(np.uint8)\n",
    "    io.imsave(path, img)\n",
    "\n",
    "THR = 1\n",
    "mask = (mag > THR)\n",
    "save_mask(\"data/mask.jpg\", mask[0])"
   ]
  }
 ],
 "metadata": {
  "kernelspec": {
   "display_name": "Python 3 (ipykernel)",
   "language": "python",
   "name": "python3"
  },
  "language_info": {
   "codemirror_mode": {
    "name": "ipython",
    "version": 3
   },
   "file_extension": ".py",
   "mimetype": "text/x-python",
   "name": "python",
   "nbconvert_exporter": "python",
   "pygments_lexer": "ipython3",
   "version": "3.11.9"
  }
 },
 "nbformat": 4,
 "nbformat_minor": 5
}
